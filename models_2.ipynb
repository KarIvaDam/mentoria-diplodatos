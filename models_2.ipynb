{
 "cells": [
  {
   "cell_type": "markdown",
   "metadata": {},
   "source": [
    "# Mentoría 'de cómo clasificar en géneros a las canciones'\n",
    "## Práctico III \n",
    "\n",
    "\n",
    "### NOTEBOOK No 3: Hyperparameter Optimization in Machine learning Models\n",
    "\n",
    "## Introduction\n",
    "\n",
    "This notebook corresponds to the second part of this exploration. This is a first incursion on supervised learning. Most of the techniques used were simple and come from a place of *\"what would happen if\"*.\n",
    "\n",
    "In the last notebook, we saw the performance of song genre classifiers using the default hyperparameters.\n",
    "\n",
    "In this notebook, the hyperparameters used will be picked in an optimal way, using gridsearch. In order to see the behavior with the raw dataset, we didn't normalize the data to see if there would be a big impact in the results. To reproduce this with a normalized dataset is proposed in the section **Future work**\n",
    "\n",
    "#### Structure\n",
    "1. A first part of this notebook is equivalent to the models_1 notebook; dataset and data split preparations and decisions. As a quick overview: our target feature is genre, Spotify's API gave us a list of genres for each artist. \n",
    "    1. First we tried using just one genre of all the possible genres of an artist, making it a classic multiclass problem. \n",
    "    2. Later we use the full list of genres, transforming the task to a multilabel multiclass problem.\n",
    "\n",
    "2. Gridsearched classifiers."
   ]
  },
  {
   "cell_type": "markdown",
   "metadata": {},
   "source": [
    "### Dependencias y acceso a APIs"
   ]
  },
  {
   "cell_type": "code",
   "execution_count": 24,
   "metadata": {},
   "outputs": [],
   "source": [
    "import pandas as pd\n",
    "import numpy as np\n",
    "import seaborn as sns\n",
    "import tqdm\n",
    "import plotly.express as px\n",
    "import plotly.graph_objects as go\n",
    "import itertools\n",
    "import matplotlib.pyplot as plt\n",
    "import json\n",
    "from sklearn.model_selection import train_test_split\n",
    "from statistics import median,mean\n",
    "import matplotlib.pyplot as plt\n",
    "from matplotlib.colors import ListedColormap\n",
    "from sklearn.preprocessing import StandardScaler\n",
    "from sklearn.datasets import make_moons, make_circles, make_classification\n",
    "from sklearn.discriminant_analysis import QuadraticDiscriminantAnalysis\n",
    "sns.set_context(context='paper')"
   ]
  },
  {
   "cell_type": "markdown",
   "metadata": {},
   "source": [
    "## Dataset\n",
    "starting from here we have a full Dataset with all the track of the playlist plus audio features and the pre-processed sentiment analysis variable\n"
   ]
  },
  {
   "cell_type": "code",
   "execution_count": 25,
   "metadata": {},
   "outputs": [],
   "source": [
    "songs_base = pd.read_csv(\"./final_big.csv\",sep=\"#\")\n",
    "#let's get back our genres\n",
    "songs_base[\"genres\"]=songs_base[\"genres\"].apply(lambda x: x.replace(\"[\",\"\").replace(\"]\",\"\").replace(\"'\",\"\").split(\",\"))\n",
    "songs_base[\"artists\"]=songs_base[\"artists\"].apply(lambda x: x.replace(\"[\",\"\").replace(\"]\",\"\").replace(\"'\",\"\").split(\",\"))"
   ]
  },
  {
   "cell_type": "code",
   "execution_count": 26,
   "metadata": {},
   "outputs": [
    {
     "data": {
      "text/plain": [
       "(920, 9)"
      ]
     },
     "execution_count": 26,
     "metadata": {},
     "output_type": "execute_result"
    }
   ],
   "source": [
    "songs_base.shape"
   ]
  },
  {
   "cell_type": "code",
   "execution_count": 27,
   "metadata": {},
   "outputs": [],
   "source": [
    "my_dataframe=songs_base.copy()"
   ]
  },
  {
   "cell_type": "code",
   "execution_count": 28,
   "metadata": {},
   "outputs": [
    {
     "name": "stdout",
     "output_type": "stream",
     "text": [
      "(920, 27)\n"
     ]
    },
    {
     "data": {
      "text/html": [
       "<div>\n",
       "<style scoped>\n",
       "    .dataframe tbody tr th:only-of-type {\n",
       "        vertical-align: middle;\n",
       "    }\n",
       "\n",
       "    .dataframe tbody tr th {\n",
       "        vertical-align: top;\n",
       "    }\n",
       "\n",
       "    .dataframe thead th {\n",
       "        text-align: right;\n",
       "    }\n",
       "</style>\n",
       "<table border=\"1\" class=\"dataframe\">\n",
       "  <thead>\n",
       "    <tr style=\"text-align: right;\">\n",
       "      <th></th>\n",
       "      <th>song_name</th>\n",
       "      <th>song_id</th>\n",
       "      <th>artists</th>\n",
       "      <th>artists_id</th>\n",
       "      <th>album_name</th>\n",
       "      <th>album_id</th>\n",
       "      <th>audio_features</th>\n",
       "      <th>genres</th>\n",
       "      <th>lyrics_sentiment</th>\n",
       "      <th>acousticness</th>\n",
       "      <th>analysis_url</th>\n",
       "      <th>danceability</th>\n",
       "      <th>duration_ms</th>\n",
       "      <th>energy</th>\n",
       "      <th>id</th>\n",
       "      <th>instrumentalness</th>\n",
       "      <th>key</th>\n",
       "      <th>liveness</th>\n",
       "      <th>loudness</th>\n",
       "      <th>mode</th>\n",
       "      <th>speechiness</th>\n",
       "      <th>tempo</th>\n",
       "      <th>time_signature</th>\n",
       "      <th>track_href</th>\n",
       "      <th>type</th>\n",
       "      <th>uri</th>\n",
       "      <th>valence</th>\n",
       "    </tr>\n",
       "  </thead>\n",
       "  <tbody>\n",
       "    <tr>\n",
       "      <th>0</th>\n",
       "      <td>Desafío</td>\n",
       "      <td>7j9DYPyCuvSAtPcevpAkzb</td>\n",
       "      <td>[Arca]</td>\n",
       "      <td>['4SQdUpG4f7UbkJG3cJ2Iyj']</td>\n",
       "      <td>Arca</td>\n",
       "      <td>1MQO4j8QExVgmnplbIodEU</td>\n",
       "      <td>{'danceability': 0.161, 'energy': 0.482, 'key': 1, 'loudness': -11.21, 'mode': 0, 'speechiness': 0.0472, 'acousticness': 0.486, 'instrumentalness': 0.409, 'liveness': 0.371, 'valence': 0.0926, 'tempo': 161.092, 'type': 'audio_features', 'id': '7j9DYPyCuvSAtPcevpAkzb', 'uri': 'spotify:track:7j9DYPyCuvSAtPcevpAkzb', 'track_href': 'https://api.spotify.com/v1/tracks/7j9DYPyCuvSAtPcevpAkzb', 'analysis_url': 'https://api.spotify.com/v1/audio-analysis/7j9DYPyCuvSAtPcevpAkzb', 'duration_ms': 233079, 'time_signature': 5}</td>\n",
       "      <td>[art pop,  dance pop,  deconstructed club,  electropop,  escape room,  experimental pop,  fluxwork,  indie r&amp;b,  indietronica]</td>\n",
       "      <td>0.0013</td>\n",
       "      <td>0.486</td>\n",
       "      <td>https://api.spotify.com/v1/audio-analysis/7j9DYPyCuvSAtPcevpAkzb</td>\n",
       "      <td>0.161</td>\n",
       "      <td>233079</td>\n",
       "      <td>0.482</td>\n",
       "      <td>7j9DYPyCuvSAtPcevpAkzb</td>\n",
       "      <td>0.409</td>\n",
       "      <td>1</td>\n",
       "      <td>0.371</td>\n",
       "      <td>-11.21</td>\n",
       "      <td>0</td>\n",
       "      <td>0.0472</td>\n",
       "      <td>161.092</td>\n",
       "      <td>5</td>\n",
       "      <td>https://api.spotify.com/v1/tracks/7j9DYPyCuvSAtPcevpAkzb</td>\n",
       "      <td>audio_features</td>\n",
       "      <td>spotify:track:7j9DYPyCuvSAtPcevpAkzb</td>\n",
       "      <td>0.0926</td>\n",
       "    </tr>\n",
       "  </tbody>\n",
       "</table>\n",
       "</div>"
      ],
      "text/plain": [
       "  song_name                 song_id artists                  artists_id  \\\n",
       "0  Desafío   7j9DYPyCuvSAtPcevpAkzb  [Arca]  ['4SQdUpG4f7UbkJG3cJ2Iyj']   \n",
       "\n",
       "  album_name                album_id  \\\n",
       "0  Arca       1MQO4j8QExVgmnplbIodEU   \n",
       "\n",
       "                                                                                                                                                                                                                                                                                                                                                                                                                                                                                                                          audio_features  \\\n",
       "0  {'danceability': 0.161, 'energy': 0.482, 'key': 1, 'loudness': -11.21, 'mode': 0, 'speechiness': 0.0472, 'acousticness': 0.486, 'instrumentalness': 0.409, 'liveness': 0.371, 'valence': 0.0926, 'tempo': 161.092, 'type': 'audio_features', 'id': '7j9DYPyCuvSAtPcevpAkzb', 'uri': 'spotify:track:7j9DYPyCuvSAtPcevpAkzb', 'track_href': 'https://api.spotify.com/v1/tracks/7j9DYPyCuvSAtPcevpAkzb', 'analysis_url': 'https://api.spotify.com/v1/audio-analysis/7j9DYPyCuvSAtPcevpAkzb', 'duration_ms': 233079, 'time_signature': 5}   \n",
       "\n",
       "                                                                                                                           genres  \\\n",
       "0  [art pop,  dance pop,  deconstructed club,  electropop,  escape room,  experimental pop,  fluxwork,  indie r&b,  indietronica]   \n",
       "\n",
       "   lyrics_sentiment  acousticness  \\\n",
       "0  0.0013            0.486          \n",
       "\n",
       "                                                       analysis_url  \\\n",
       "0  https://api.spotify.com/v1/audio-analysis/7j9DYPyCuvSAtPcevpAkzb   \n",
       "\n",
       "   danceability  duration_ms  energy                      id  \\\n",
       "0  0.161         233079       0.482   7j9DYPyCuvSAtPcevpAkzb   \n",
       "\n",
       "   instrumentalness  key  liveness  loudness  mode  speechiness    tempo  \\\n",
       "0  0.409             1    0.371    -11.21     0     0.0472       161.092   \n",
       "\n",
       "   time_signature                                                track_href  \\\n",
       "0  5               https://api.spotify.com/v1/tracks/7j9DYPyCuvSAtPcevpAkzb   \n",
       "\n",
       "             type                                   uri  valence  \n",
       "0  audio_features  spotify:track:7j9DYPyCuvSAtPcevpAkzb  0.0926   "
      ]
     },
     "execution_count": 28,
     "metadata": {},
     "output_type": "execute_result"
    }
   ],
   "source": [
    "#SPLIT AUDIO FEATURES\n",
    "import ast\n",
    "\n",
    "audio_thing= my_dataframe[\"audio_features\"].apply(lambda x: ast.literal_eval(x))\n",
    "audio_features_base = pd.DataFrame(list(audio_thing))\n",
    "audio_features = audio_features_base.columns\n",
    "\n",
    "my_dataframe = my_dataframe.reset_index(drop=True)\n",
    "audio_features_base = audio_features_base.reset_index(drop=True)\n",
    "my_dataframe = pd.concat([my_dataframe,audio_features_base],axis=1)\n",
    "print(my_dataframe.shape)\n",
    "my_dataframe.head(1)"
   ]
  },
  {
   "cell_type": "code",
   "execution_count": 29,
   "metadata": {},
   "outputs": [
    {
     "name": "stdout",
     "output_type": "stream",
     "text": [
      "(920, 28)\n"
     ]
    }
   ],
   "source": [
    "#EXTRACT FIRST ARTIST\n",
    "my_dataframe1 = my_dataframe.copy()\n",
    "my_dataframe1[\"first_artist\"] = my_dataframe1[\"artists\"].apply(lambda x: x[0])\n",
    "print(my_dataframe1.shape)"
   ]
  },
  {
   "cell_type": "markdown",
   "metadata": {},
   "source": [
    "problem with spotify's genres (target): **multiple genres in the same song**\n",
    "\n",
    "Examples:"
   ]
  },
  {
   "cell_type": "code",
   "execution_count": 30,
   "metadata": {},
   "outputs": [
    {
     "data": {
      "text/plain": [
       "0    [art pop,  dance pop,  deconstructed club,  electropop,  escape room,  experimental pop,  fluxwork,  indie r&b,  indietronica]\n",
       "1    [art pop,  dance pop,  deconstructed club,  electropop,  escape room,  experimental pop,  fluxwork,  indie r&b,  indietronica]\n",
       "2    [art pop,  dance pop,  deconstructed club,  electropop,  escape room,  experimental pop,  fluxwork,  indie r&b,  indietronica]\n",
       "3    [bolero,  cancion melodica,  grupera,  latin,  latin pop,  ranchera]                                                          \n",
       "Name: genres, dtype: object"
      ]
     },
     "execution_count": 30,
     "metadata": {},
     "output_type": "execute_result"
    }
   ],
   "source": [
    "import warnings\n",
    "warnings.filterwarnings('ignore')\n",
    "pd.set_option('display.max_colwidth', -1)\n",
    "my_dataframe1['genres'].head(4)"
   ]
  },
  {
   "cell_type": "markdown",
   "metadata": {},
   "source": [
    "We solved this by deciding to select the first genre of the list, from which we create a new column in our dataframe called first_genre"
   ]
  },
  {
   "cell_type": "code",
   "execution_count": 31,
   "metadata": {},
   "outputs": [
    {
     "name": "stdout",
     "output_type": "stream",
     "text": [
      "(920, 29)\n"
     ]
    },
    {
     "data": {
      "text/html": [
       "<div>\n",
       "<style scoped>\n",
       "    .dataframe tbody tr th:only-of-type {\n",
       "        vertical-align: middle;\n",
       "    }\n",
       "\n",
       "    .dataframe tbody tr th {\n",
       "        vertical-align: top;\n",
       "    }\n",
       "\n",
       "    .dataframe thead th {\n",
       "        text-align: right;\n",
       "    }\n",
       "</style>\n",
       "<table border=\"1\" class=\"dataframe\">\n",
       "  <thead>\n",
       "    <tr style=\"text-align: right;\">\n",
       "      <th></th>\n",
       "      <th>song_name</th>\n",
       "      <th>song_id</th>\n",
       "      <th>artists</th>\n",
       "      <th>artists_id</th>\n",
       "      <th>album_name</th>\n",
       "      <th>album_id</th>\n",
       "      <th>audio_features</th>\n",
       "      <th>genres</th>\n",
       "      <th>lyrics_sentiment</th>\n",
       "      <th>acousticness</th>\n",
       "      <th>analysis_url</th>\n",
       "      <th>danceability</th>\n",
       "      <th>duration_ms</th>\n",
       "      <th>energy</th>\n",
       "      <th>id</th>\n",
       "      <th>instrumentalness</th>\n",
       "      <th>key</th>\n",
       "      <th>liveness</th>\n",
       "      <th>loudness</th>\n",
       "      <th>mode</th>\n",
       "      <th>speechiness</th>\n",
       "      <th>tempo</th>\n",
       "      <th>time_signature</th>\n",
       "      <th>track_href</th>\n",
       "      <th>type</th>\n",
       "      <th>uri</th>\n",
       "      <th>valence</th>\n",
       "      <th>first_artist</th>\n",
       "      <th>first_genre</th>\n",
       "    </tr>\n",
       "  </thead>\n",
       "  <tbody>\n",
       "    <tr>\n",
       "      <th>0</th>\n",
       "      <td>Desafío</td>\n",
       "      <td>7j9DYPyCuvSAtPcevpAkzb</td>\n",
       "      <td>[Arca]</td>\n",
       "      <td>['4SQdUpG4f7UbkJG3cJ2Iyj']</td>\n",
       "      <td>Arca</td>\n",
       "      <td>1MQO4j8QExVgmnplbIodEU</td>\n",
       "      <td>{'danceability': 0.161, 'energy': 0.482, 'key': 1, 'loudness': -11.21, 'mode': 0, 'speechiness': 0.0472, 'acousticness': 0.486, 'instrumentalness': 0.409, 'liveness': 0.371, 'valence': 0.0926, 'tempo': 161.092, 'type': 'audio_features', 'id': '7j9DYPyCuvSAtPcevpAkzb', 'uri': 'spotify:track:7j9DYPyCuvSAtPcevpAkzb', 'track_href': 'https://api.spotify.com/v1/tracks/7j9DYPyCuvSAtPcevpAkzb', 'analysis_url': 'https://api.spotify.com/v1/audio-analysis/7j9DYPyCuvSAtPcevpAkzb', 'duration_ms': 233079, 'time_signature': 5}</td>\n",
       "      <td>[art pop,  dance pop,  deconstructed club,  electropop,  escape room,  experimental pop,  fluxwork,  indie r&amp;b,  indietronica]</td>\n",
       "      <td>0.0013</td>\n",
       "      <td>0.486</td>\n",
       "      <td>https://api.spotify.com/v1/audio-analysis/7j9DYPyCuvSAtPcevpAkzb</td>\n",
       "      <td>0.161</td>\n",
       "      <td>233079</td>\n",
       "      <td>0.482</td>\n",
       "      <td>7j9DYPyCuvSAtPcevpAkzb</td>\n",
       "      <td>0.409</td>\n",
       "      <td>1</td>\n",
       "      <td>0.371</td>\n",
       "      <td>-11.21</td>\n",
       "      <td>0</td>\n",
       "      <td>0.0472</td>\n",
       "      <td>161.092</td>\n",
       "      <td>5</td>\n",
       "      <td>https://api.spotify.com/v1/tracks/7j9DYPyCuvSAtPcevpAkzb</td>\n",
       "      <td>audio_features</td>\n",
       "      <td>spotify:track:7j9DYPyCuvSAtPcevpAkzb</td>\n",
       "      <td>0.0926</td>\n",
       "      <td>Arca</td>\n",
       "      <td>art pop</td>\n",
       "    </tr>\n",
       "  </tbody>\n",
       "</table>\n",
       "</div>"
      ],
      "text/plain": [
       "  song_name                 song_id artists                  artists_id  \\\n",
       "0  Desafío   7j9DYPyCuvSAtPcevpAkzb  [Arca]  ['4SQdUpG4f7UbkJG3cJ2Iyj']   \n",
       "\n",
       "  album_name                album_id  \\\n",
       "0  Arca       1MQO4j8QExVgmnplbIodEU   \n",
       "\n",
       "                                                                                                                                                                                                                                                                                                                                                                                                                                                                                                                          audio_features  \\\n",
       "0  {'danceability': 0.161, 'energy': 0.482, 'key': 1, 'loudness': -11.21, 'mode': 0, 'speechiness': 0.0472, 'acousticness': 0.486, 'instrumentalness': 0.409, 'liveness': 0.371, 'valence': 0.0926, 'tempo': 161.092, 'type': 'audio_features', 'id': '7j9DYPyCuvSAtPcevpAkzb', 'uri': 'spotify:track:7j9DYPyCuvSAtPcevpAkzb', 'track_href': 'https://api.spotify.com/v1/tracks/7j9DYPyCuvSAtPcevpAkzb', 'analysis_url': 'https://api.spotify.com/v1/audio-analysis/7j9DYPyCuvSAtPcevpAkzb', 'duration_ms': 233079, 'time_signature': 5}   \n",
       "\n",
       "                                                                                                                           genres  \\\n",
       "0  [art pop,  dance pop,  deconstructed club,  electropop,  escape room,  experimental pop,  fluxwork,  indie r&b,  indietronica]   \n",
       "\n",
       "   lyrics_sentiment  acousticness  \\\n",
       "0  0.0013            0.486          \n",
       "\n",
       "                                                       analysis_url  \\\n",
       "0  https://api.spotify.com/v1/audio-analysis/7j9DYPyCuvSAtPcevpAkzb   \n",
       "\n",
       "   danceability  duration_ms  energy                      id  \\\n",
       "0  0.161         233079       0.482   7j9DYPyCuvSAtPcevpAkzb   \n",
       "\n",
       "   instrumentalness  key  liveness  loudness  mode  speechiness    tempo  \\\n",
       "0  0.409             1    0.371    -11.21     0     0.0472       161.092   \n",
       "\n",
       "   time_signature                                                track_href  \\\n",
       "0  5               https://api.spotify.com/v1/tracks/7j9DYPyCuvSAtPcevpAkzb   \n",
       "\n",
       "             type                                   uri  valence first_artist  \\\n",
       "0  audio_features  spotify:track:7j9DYPyCuvSAtPcevpAkzb  0.0926   Arca          \n",
       "\n",
       "  first_genre  \n",
       "0  art pop     "
      ]
     },
     "execution_count": 31,
     "metadata": {},
     "output_type": "execute_result"
    }
   ],
   "source": [
    "#FIRST GENRE\n",
    "my_dataframe2 = my_dataframe1.copy()\n",
    "my_dataframe2[\"first_genre\"] = my_dataframe2[\"genres\"].apply(lambda x: x[0])\n",
    "print(my_dataframe2.shape)\n",
    "my_dataframe2.head(1)"
   ]
  },
  {
   "cell_type": "markdown",
   "metadata": {},
   "source": [
    "ENCODING GENRES"
   ]
  },
  {
   "cell_type": "code",
   "execution_count": 32,
   "metadata": {},
   "outputs": [
    {
     "name": "stdout",
     "output_type": "stream",
     "text": [
      "Shape of the full Dataframe: (920, 30)\n",
      "\n",
      "Validamos...\n",
      "Cantidad total de elementos en el target first genres: 920\n",
      "Cantidad total de elementos en el target encoded genres: 920\n",
      "\n",
      "Clases únicas en el target first genres:  39\n",
      "Clases únicas en el target encoded genres:  39\n",
      "\n",
      "Elementos a predecir en el target: \n",
      " [ 9 11 12  2 13  8 18 28  6 14 30 33 36 27 16 34 19  1 29  4  3 35  0 32\n",
      " 23 31  5  7 25 26 17 21 37 20 24 38 15 22 10]\n"
     ]
    }
   ],
   "source": [
    "my_dataframe3=my_dataframe2.copy()\n",
    "from sklearn.preprocessing import LabelEncoder\n",
    "# encode string class values as integers\n",
    "label_encoder = LabelEncoder()\n",
    "label_encoder = label_encoder.fit(my_dataframe3[\"first_genre\"])\n",
    "my_dataframe3[\"encoded_genres\"]= label_encoder.transform(my_dataframe3[\"first_genre\"])\n",
    "print(\"Shape of the full Dataframe:\", my_dataframe3.shape)\n",
    "print(\"\\nValidamos...\")\n",
    "print(\"Cantidad total de elementos en el target first genres:\" , len(my_dataframe3['first_genre']))\n",
    "print(\"Cantidad total de elementos en el target encoded genres:\" , len(my_dataframe3['encoded_genres']))\n",
    "print(\"\\nClases únicas en el target first genres: \", my_dataframe3['first_genre'].nunique())\n",
    "print(\"Clases únicas en el target encoded genres: \", my_dataframe3['encoded_genres'].nunique())\n",
    "print(\"\\nElementos a predecir en el target: \\n\",my_dataframe3['encoded_genres'].unique())"
   ]
  },
  {
   "cell_type": "markdown",
   "metadata": {},
   "source": [
    "#### This is the full Dataframe that we get"
   ]
  },
  {
   "cell_type": "code",
   "execution_count": 33,
   "metadata": {},
   "outputs": [
    {
     "name": "stdout",
     "output_type": "stream",
     "text": [
      "(920, 30)\n"
     ]
    },
    {
     "data": {
      "text/html": [
       "<div>\n",
       "<style scoped>\n",
       "    .dataframe tbody tr th:only-of-type {\n",
       "        vertical-align: middle;\n",
       "    }\n",
       "\n",
       "    .dataframe tbody tr th {\n",
       "        vertical-align: top;\n",
       "    }\n",
       "\n",
       "    .dataframe thead th {\n",
       "        text-align: right;\n",
       "    }\n",
       "</style>\n",
       "<table border=\"1\" class=\"dataframe\">\n",
       "  <thead>\n",
       "    <tr style=\"text-align: right;\">\n",
       "      <th></th>\n",
       "      <th>song_name</th>\n",
       "      <th>song_id</th>\n",
       "      <th>artists</th>\n",
       "      <th>artists_id</th>\n",
       "      <th>album_name</th>\n",
       "      <th>album_id</th>\n",
       "      <th>audio_features</th>\n",
       "      <th>genres</th>\n",
       "      <th>lyrics_sentiment</th>\n",
       "      <th>acousticness</th>\n",
       "      <th>analysis_url</th>\n",
       "      <th>danceability</th>\n",
       "      <th>duration_ms</th>\n",
       "      <th>energy</th>\n",
       "      <th>id</th>\n",
       "      <th>instrumentalness</th>\n",
       "      <th>key</th>\n",
       "      <th>liveness</th>\n",
       "      <th>loudness</th>\n",
       "      <th>mode</th>\n",
       "      <th>speechiness</th>\n",
       "      <th>tempo</th>\n",
       "      <th>time_signature</th>\n",
       "      <th>track_href</th>\n",
       "      <th>type</th>\n",
       "      <th>uri</th>\n",
       "      <th>valence</th>\n",
       "      <th>first_artist</th>\n",
       "      <th>first_genre</th>\n",
       "      <th>encoded_genres</th>\n",
       "    </tr>\n",
       "  </thead>\n",
       "  <tbody>\n",
       "    <tr>\n",
       "      <th>0</th>\n",
       "      <td>Desafío</td>\n",
       "      <td>7j9DYPyCuvSAtPcevpAkzb</td>\n",
       "      <td>[Arca]</td>\n",
       "      <td>['4SQdUpG4f7UbkJG3cJ2Iyj']</td>\n",
       "      <td>Arca</td>\n",
       "      <td>1MQO4j8QExVgmnplbIodEU</td>\n",
       "      <td>{'danceability': 0.161, 'energy': 0.482, 'key': 1, 'loudness': -11.21, 'mode': 0, 'speechiness': 0.0472, 'acousticness': 0.486, 'instrumentalness': 0.409, 'liveness': 0.371, 'valence': 0.0926, 'tempo': 161.092, 'type': 'audio_features', 'id': '7j9DYPyCuvSAtPcevpAkzb', 'uri': 'spotify:track:7j9DYPyCuvSAtPcevpAkzb', 'track_href': 'https://api.spotify.com/v1/tracks/7j9DYPyCuvSAtPcevpAkzb', 'analysis_url': 'https://api.spotify.com/v1/audio-analysis/7j9DYPyCuvSAtPcevpAkzb', 'duration_ms': 233079, 'time_signature': 5}</td>\n",
       "      <td>[art pop,  dance pop,  deconstructed club,  electropop,  escape room,  experimental pop,  fluxwork,  indie r&amp;b,  indietronica]</td>\n",
       "      <td>0.0013</td>\n",
       "      <td>0.486</td>\n",
       "      <td>https://api.spotify.com/v1/audio-analysis/7j9DYPyCuvSAtPcevpAkzb</td>\n",
       "      <td>0.161</td>\n",
       "      <td>233079</td>\n",
       "      <td>0.482</td>\n",
       "      <td>7j9DYPyCuvSAtPcevpAkzb</td>\n",
       "      <td>0.409</td>\n",
       "      <td>1</td>\n",
       "      <td>0.371</td>\n",
       "      <td>-11.21</td>\n",
       "      <td>0</td>\n",
       "      <td>0.0472</td>\n",
       "      <td>161.092</td>\n",
       "      <td>5</td>\n",
       "      <td>https://api.spotify.com/v1/tracks/7j9DYPyCuvSAtPcevpAkzb</td>\n",
       "      <td>audio_features</td>\n",
       "      <td>spotify:track:7j9DYPyCuvSAtPcevpAkzb</td>\n",
       "      <td>0.0926</td>\n",
       "      <td>Arca</td>\n",
       "      <td>art pop</td>\n",
       "      <td>9</td>\n",
       "    </tr>\n",
       "  </tbody>\n",
       "</table>\n",
       "</div>"
      ],
      "text/plain": [
       "  song_name                 song_id artists                  artists_id  \\\n",
       "0  Desafío   7j9DYPyCuvSAtPcevpAkzb  [Arca]  ['4SQdUpG4f7UbkJG3cJ2Iyj']   \n",
       "\n",
       "  album_name                album_id  \\\n",
       "0  Arca       1MQO4j8QExVgmnplbIodEU   \n",
       "\n",
       "                                                                                                                                                                                                                                                                                                                                                                                                                                                                                                                          audio_features  \\\n",
       "0  {'danceability': 0.161, 'energy': 0.482, 'key': 1, 'loudness': -11.21, 'mode': 0, 'speechiness': 0.0472, 'acousticness': 0.486, 'instrumentalness': 0.409, 'liveness': 0.371, 'valence': 0.0926, 'tempo': 161.092, 'type': 'audio_features', 'id': '7j9DYPyCuvSAtPcevpAkzb', 'uri': 'spotify:track:7j9DYPyCuvSAtPcevpAkzb', 'track_href': 'https://api.spotify.com/v1/tracks/7j9DYPyCuvSAtPcevpAkzb', 'analysis_url': 'https://api.spotify.com/v1/audio-analysis/7j9DYPyCuvSAtPcevpAkzb', 'duration_ms': 233079, 'time_signature': 5}   \n",
       "\n",
       "                                                                                                                           genres  \\\n",
       "0  [art pop,  dance pop,  deconstructed club,  electropop,  escape room,  experimental pop,  fluxwork,  indie r&b,  indietronica]   \n",
       "\n",
       "   lyrics_sentiment  acousticness  \\\n",
       "0  0.0013            0.486          \n",
       "\n",
       "                                                       analysis_url  \\\n",
       "0  https://api.spotify.com/v1/audio-analysis/7j9DYPyCuvSAtPcevpAkzb   \n",
       "\n",
       "   danceability  duration_ms  energy                      id  \\\n",
       "0  0.161         233079       0.482   7j9DYPyCuvSAtPcevpAkzb   \n",
       "\n",
       "   instrumentalness  key  liveness  loudness  mode  speechiness    tempo  \\\n",
       "0  0.409             1    0.371    -11.21     0     0.0472       161.092   \n",
       "\n",
       "   time_signature                                                track_href  \\\n",
       "0  5               https://api.spotify.com/v1/tracks/7j9DYPyCuvSAtPcevpAkzb   \n",
       "\n",
       "             type                                   uri  valence first_artist  \\\n",
       "0  audio_features  spotify:track:7j9DYPyCuvSAtPcevpAkzb  0.0926   Arca          \n",
       "\n",
       "  first_genre  encoded_genres  \n",
       "0  art pop     9               "
      ]
     },
     "execution_count": 33,
     "metadata": {},
     "output_type": "execute_result"
    }
   ],
   "source": [
    "dataframe_working=my_dataframe3.copy()\n",
    "pd.set_option('display.max_columns', None)\n",
    "print(dataframe_working.shape)\n",
    "dataframe_working.head(1)"
   ]
  },
  {
   "cell_type": "code",
   "execution_count": 34,
   "metadata": {},
   "outputs": [],
   "source": [
    "interesting_features = [\"danceability\", \"energy\",\"key\",\"loudness\",\"mode\",\n",
    "            \"speechiness\",\"acousticness\",\"instrumentalness\",\"liveness\",\n",
    "            \"valence\",\"tempo\",\"lyrics_sentiment\"]\n",
    "\n",
    "def get_df_for_training(base_df,features=interesting_features):\n",
    "    df = base_df.copy()\n",
    "    audio_thing= df[\"audio_features\"].apply(lambda x: ast.literal_eval(x))\n",
    "    audio_features_base = pd.DataFrame(list(audio_thing))\n",
    "    audio_features = audio_features_base.columns\n",
    "    df = df.reset_index(drop=True)\n",
    "    audio_features_base = audio_features_base.reset_index(drop=True)\n",
    "    df2 = pd.concat([df,audio_features_base],axis=1)\n",
    "    other = df2[audio_features].join( df['lyrics_sentiment'])\n",
    "    sanitized = df2.drop([\"uri\", \"analysis_url\", \"track_href\", \"id\", \"type\"],1)\n",
    "\n",
    "    X = sanitized[features]\n",
    "    Y = df2[\"genres\"]\n",
    "    return X,Y"
   ]
  },
  {
   "cell_type": "code",
   "execution_count": 35,
   "metadata": {},
   "outputs": [],
   "source": [
    "#parameters:axs the sns barplot, h_v = 'h' horizontal barplot or 'v' vertical barplot, space = number of space betweel label and bar\n",
    "def show_values_on_bars(axs, h_v=\"v\", space=0.4):\n",
    "    def _show_on_single_plot(ax):\n",
    "        if h_v == \"v\":\n",
    "            for p in ax.patches:\n",
    "                _x = p.get_x() + p.get_width() / 2\n",
    "                _y = p.get_y() + p.get_height()\n",
    "                value = int(p.get_height())\n",
    "                ax.text(_x, _y, value, ha=\"center\") \n",
    "        elif h_v == \"h\":\n",
    "            for p in ax.patches:\n",
    "                _x = p.get_x() + p.get_width() + float(space)\n",
    "                _y = p.get_y() + p.get_height()\n",
    "                value = int(p.get_width())\n",
    "                ax.text(_x, _y, value, ha=\"left\")\n",
    "\n",
    "    if isinstance(axs, np.ndarray):\n",
    "        for idx, ax in np.ndenumerate(axs):\n",
    "            _show_on_single_plot(ax)\n",
    "    else:\n",
    "        _show_on_single_plot(axs)"
   ]
  },
  {
   "cell_type": "markdown",
   "metadata": {},
   "source": [
    "### Songs by first unique Artists Distribution"
   ]
  },
  {
   "cell_type": "markdown",
   "metadata": {},
   "source": [
    "Let's try to simplify the process by using a unique Artist of our dataset for each song, we use the first one."
   ]
  },
  {
   "cell_type": "code",
   "execution_count": 36,
   "metadata": {},
   "outputs": [
    {
     "data": {
      "text/plain": [
       "(160, 2)"
      ]
     },
     "execution_count": 36,
     "metadata": {},
     "output_type": "execute_result"
    }
   ],
   "source": [
    "second_dist = dataframe_working[\"first_artist\"].value_counts()\n",
    "second_dist_df = pd.DataFrame({'artists':second_dist.index, 'count':second_dist.values})\n",
    "second_dist_df.shape"
   ]
  },
  {
   "cell_type": "markdown",
   "metadata": {},
   "source": [
    "#### Music Genres Distribution"
   ]
  },
  {
   "cell_type": "code",
   "execution_count": 37,
   "metadata": {},
   "outputs": [
    {
     "data": {
      "text/plain": [
       "(39, 2)"
      ]
     },
     "execution_count": 37,
     "metadata": {},
     "output_type": "execute_result"
    }
   ],
   "source": [
    "first_dist = dataframe_working[\"first_genre\"].value_counts()\n",
    "first_dist_df = pd.DataFrame({'genre':first_dist.index, 'count':first_dist.values})\n",
    "first_dist_df.shape"
   ]
  },
  {
   "cell_type": "markdown",
   "metadata": {},
   "source": [
    "#### Applying some filters in our dataframe\n",
    "new try removing first three most frequent genres: _Argentine Rock, Latin and Cuarteto_"
   ]
  },
  {
   "cell_type": "code",
   "execution_count": 38,
   "metadata": {},
   "outputs": [
    {
     "data": {
      "text/plain": [
       "(376, 30)"
      ]
     },
     "execution_count": 38,
     "metadata": {},
     "output_type": "execute_result"
    }
   ],
   "source": [
    "a_new_try = dataframe_working[dataframe_working[\"first_genre\"] != \"argentine rock\" ]\n",
    "a_new_try = a_new_try[a_new_try[\"first_genre\"] != \"latin\"]\n",
    "a_new_try = a_new_try[a_new_try[\"first_genre\"] != \"cuarteto\"]\n",
    "a_new_try.shape"
   ]
  },
  {
   "cell_type": "code",
   "execution_count": 39,
   "metadata": {},
   "outputs": [
    {
     "name": "stdout",
     "output_type": "stream",
     "text": [
      "Now we have 36 genres\n"
     ]
    }
   ],
   "source": [
    "new_dist = a_new_try[\"first_genre\"].value_counts()\n",
    "new_dist_df = pd.DataFrame({'genre':new_dist.index, 'count':new_dist.values})\n",
    "new_dist_df.shape\n",
    "print(\"Now we have\", new_dist_df['genre'].value_counts().sum(), \"genres\")"
   ]
  },
  {
   "cell_type": "markdown",
   "metadata": {},
   "source": [
    "After removing the three most frequents genres, what artist distribution do we get?"
   ]
  },
  {
   "cell_type": "code",
   "execution_count": 40,
   "metadata": {},
   "outputs": [
    {
     "data": {
      "text/plain": [
       "(86, 2)"
      ]
     },
     "execution_count": 40,
     "metadata": {},
     "output_type": "execute_result"
    }
   ],
   "source": [
    "third_dist = a_new_try[\"first_artist\"].value_counts()\n",
    "third_dist_df = pd.DataFrame({'artists':third_dist.index, 'count':third_dist.values})\n",
    "third_dist_df.shape"
   ]
  },
  {
   "cell_type": "markdown",
   "metadata": {},
   "source": [
    "### Split: X Y"
   ]
  },
  {
   "cell_type": "code",
   "execution_count": 41,
   "metadata": {},
   "outputs": [],
   "source": [
    "#full dataframe all features and all first genres\n",
    "features1 = [\"danceability\", \"energy\",\"key\",\"loudness\",\"mode\",\n",
    "            \"speechiness\",\"acousticness\",\"instrumentalness\",\"liveness\",\n",
    "           \"valence\",\"tempo\",\"duration_ms\",\"time_signature\",\"lyrics_sentiment\"]\n",
    "X=dataframe_working[features1]\n",
    "Y=dataframe_working[\"encoded_genres\"]\n",
    "\n",
    "#genres and features filtered\n",
    "features2 = [\"danceability\", \"energy\",\"key\",\"loudness\",\"mode\",\n",
    "            \"speechiness\",\"acousticness\",\"instrumentalness\",\"liveness\",\n",
    "           \"valence\",\"tempo\",\"lyrics_sentiment\"]\n",
    "XX = a_new_try[features2]\n",
    "YY = a_new_try[\"encoded_genres\"]"
   ]
  },
  {
   "cell_type": "markdown",
   "metadata": {},
   "source": [
    "FULL"
   ]
  },
  {
   "cell_type": "code",
   "execution_count": 42,
   "metadata": {},
   "outputs": [
    {
     "name": "stdout",
     "output_type": "stream",
     "text": [
      "(920, 14)\n",
      "(920,)\n"
     ]
    }
   ],
   "source": [
    "print(X.shape)\n",
    "print(Y.shape)"
   ]
  },
  {
   "cell_type": "markdown",
   "metadata": {},
   "source": [
    "FILTERED"
   ]
  },
  {
   "cell_type": "code",
   "execution_count": 43,
   "metadata": {},
   "outputs": [
    {
     "name": "stdout",
     "output_type": "stream",
     "text": [
      "(376, 12)\n",
      "(376,)\n"
     ]
    }
   ],
   "source": [
    "print(XX.shape)\n",
    "print(YY.shape)"
   ]
  },
  {
   "cell_type": "markdown",
   "metadata": {},
   "source": [
    "### TRAIN TEST SPLIT"
   ]
  },
  {
   "cell_type": "code",
   "execution_count": 44,
   "metadata": {},
   "outputs": [
    {
     "name": "stdout",
     "output_type": "stream",
     "text": [
      "Full:\n",
      "X_train: (690, 14)\n",
      "X_test:  (230, 14)\n",
      "y_train: (690,)\n",
      "y_test:  (230,)\n",
      "\n",
      "Filtered:\n",
      "XX_train: (282, 12)\n",
      "XX_test:  (94, 12)\n",
      "yy_train: (282,)\n",
      "yy_test:  (94,)\n"
     ]
    }
   ],
   "source": [
    "# SPLITS WITHOUT ENCODING Y VARIABLE ON FULL DATASET\n",
    "X_train, X_test, y_train, y_test = train_test_split(X, Y, test_size=0.25, random_state=42)\n",
    "#FILTERED\n",
    "XX_train, XX_test, yy_train, yy_test = train_test_split(XX, YY, test_size=0.25, random_state=42)\n",
    "print(\"Full:\")\n",
    "print(\"X_train:\", X_train.shape)\n",
    "print(\"X_test: \",X_test.shape)\n",
    "print(\"y_train:\",y_train.shape)\n",
    "print(\"y_test: \",y_test.shape)\n",
    "print(\"\\nFiltered:\")\n",
    "print(\"XX_train:\", XX_train.shape)\n",
    "print(\"XX_test: \",XX_test.shape)\n",
    "print(\"yy_train:\",yy_train.shape)\n",
    "print(\"yy_test: \",yy_test.shape)"
   ]
  },
  {
   "cell_type": "code",
   "execution_count": 45,
   "metadata": {},
   "outputs": [],
   "source": [
    "#Classifier\n",
    "import xgboost as xgb\n",
    "from sklearn import ensemble\n",
    "from sklearn import svm\n",
    "from sklearn.linear_model import SGDClassifier\n",
    "from sklearn.tree import DecisionTreeClassifier, plot_tree\n",
    "from sklearn.ensemble import RandomForestClassifier\n",
    "from sklearn.neighbors import KNeighborsClassifier\n",
    "from sklearn.multiclass import OneVsRestClassifier\n",
    "import sklearn.linear_model\n",
    "import sklearn.neural_network\n",
    "from sklearn import model_selection, tree\n",
    "\n",
    "#Metrics\n",
    "from sklearn.metrics import (\n",
    "    accuracy_score,\n",
    "    mean_squared_error,\n",
    "    recall_score,\n",
    "    precision_score,\n",
    "    f1_score,\n",
    "    confusion_matrix,\n",
    "    multilabel_confusion_matrix,\n",
    "    plot_confusion_matrix,\n",
    "    classification_report\n",
    ")\n",
    "\n",
    "from sklearn.preprocessing import LabelEncoder\n",
    "from sklearn.preprocessing import MultiLabelBinarizer\n",
    "from sklearn.model_selection import RandomizedSearchCV, GridSearchCV\n",
    "from sklearn.pipeline import make_pipeline\n",
    "\n",
    "import matplotlib.pyplot as plt\n",
    "from sklearn import decomposition"
   ]
  },
  {
   "cell_type": "code",
   "execution_count": 46,
   "metadata": {},
   "outputs": [],
   "source": [
    "def plot_cm(y_true, y_pred, figsize=(20,9)):\n",
    "    cm = confusion_matrix(y_true, y_pred, labels=np.unique(y_true))\n",
    "    cm_sum = np.sum(cm, axis=1, keepdims=True)\n",
    "    cm_perc = cm / cm_sum.astype(float) * 100\n",
    "    cm_perc = np.nan_to_num(cm_perc,nan=0.)\n",
    "    annot = np.empty_like(cm).astype(str)\n",
    "    nrows, ncols = cm.shape\n",
    "    for i in range(nrows):\n",
    "        for j in range(ncols):\n",
    "            c = cm[i, j]\n",
    "            p = cm_perc[i, j]\n",
    "            if i == j:\n",
    "                s = cm_sum[i]\n",
    "                annot[i, j] = '%.1f%%\\n%d/%d' % (p, c, s)\n",
    "            elif c == 0:\n",
    "                annot[i, j] = ''\n",
    "            else:\n",
    "                annot[i, j] = '%.1f%%\\n%d' % (p, c)\n",
    "    cm = pd.DataFrame(cm, index=np.unique(y_true), columns=np.unique(y_true))\n",
    "    cm.index.name = 'Actual'\n",
    "    cm.columns.name = 'Predicted'\n",
    "    fig, ax = plt.subplots(figsize=figsize)\n",
    "    sns.heatmap(cm, annot=annot, fmt='', ax=ax, cmap='coolwarm') #Blues BuPu Greens coolwarm\n",
    "    plt.title('Confusion Matrix in TEST SPLIT', fontsize = 20)"
   ]
  },
  {
   "cell_type": "code",
   "execution_count": 47,
   "metadata": {},
   "outputs": [],
   "source": [
    "def plot_feature_importance(importance,names,model_type):\n",
    "#Create arrays from feature importance and feature names\n",
    "    feature_importance = np.array(importance)\n",
    "    feature_names = np.array(names)\n",
    "#Create a DataFrame using a Dictionary\n",
    "    data={'feature_names':feature_names,'feature_importance':feature_importance}\n",
    "    fi_df = pd.DataFrame(data)\n",
    "#Sort the DataFrame in order decreasing feature importance\n",
    "    fi_df.sort_values(by=['feature_importance'], ascending=False, inplace=True)\n",
    "#Define size of bar plot\n",
    "    plt.figure(figsize=(13,5))\n",
    "#Plot Searborn bar chart\n",
    "    sns.barplot(x=fi_df['feature_importance'], y=fi_df['feature_names'], palette=\"Blues_d\") # GnBu  Blues_d\n",
    "# control x and y limits\n",
    "    ax.set(xlim=(0, 0.300))\n",
    "#Add chart labels\n",
    "    plt.title(model_type + 'FEATURE IMPORTANCE')\n",
    "    plt.xlabel('FEATURE IMPORTANCE')\n",
    "    plt.ylabel('FEATURE NAMES')"
   ]
  },
  {
   "cell_type": "markdown",
   "metadata": {},
   "source": [
    "## HYPERPARAMETERS CLASSIFIERS \n",
    "For the parameterization of the models on a filtered and selected sample of the dataset we choose the following algorithms:\n",
    "\n",
    "##### XGBoost\n",
    "\n",
    "##### Decision Trees\n",
    "\n",
    "##### Random Forest\n",
    "\n",
    "##### OneVsRestClassifier"
   ]
  },
  {
   "cell_type": "markdown",
   "metadata": {},
   "source": [
    "_inicializating some models_"
   ]
  },
  {
   "cell_type": "code",
   "execution_count": 48,
   "metadata": {},
   "outputs": [],
   "source": [
    "xgb_clf=xgb.XGBClassifier(random_state=42)\n",
    "dt_clf=DecisionTreeClassifier(random_state=42) \n",
    "rf_clf=RandomForestClassifier(random_state=42)"
   ]
  },
  {
   "cell_type": "markdown",
   "metadata": {},
   "source": [
    "training some models with the filtered dataset XX and YY"
   ]
  },
  {
   "cell_type": "markdown",
   "metadata": {},
   "source": [
    "## XGBoost"
   ]
  },
  {
   "cell_type": "code",
   "execution_count": 49,
   "metadata": {},
   "outputs": [
    {
     "name": "stdout",
     "output_type": "stream",
     "text": [
      "Fitting 3 folds for each of 96 candidates, totalling 288 fits\n"
     ]
    },
    {
     "name": "stderr",
     "output_type": "stream",
     "text": [
      "[Parallel(n_jobs=1)]: Using backend SequentialBackend with 1 concurrent workers.\n",
      "[Parallel(n_jobs=1)]: Done 288 out of 288 | elapsed:  2.1min finished\n"
     ]
    }
   ],
   "source": [
    "param_grid_xgb = {\n",
    "        'min_child_weight': [1, 5, 10],\n",
    "        'gamma': [0.5, 1, 1.5, 5],\n",
    "        'subsample': [0.6, 1.0],\n",
    "        'colsample_bytree': [0.6, 1.0],\n",
    "        'max_depth': [3, 5]\n",
    "}\n",
    "grid_xgb = GridSearchCV(xgb_clf, param_grid_xgb, scoring='accuracy', cv=3, verbose=1)\n",
    "grid_xgb.fit(XX_train, yy_train)\n",
    "\n",
    "#making a prediction in train and test!\n",
    "xgb_best_model = grid_xgb.best_estimator_\n",
    "yy_train_pred_xgb = xgb_best_model.predict(XX_train)\n",
    "yy_test_pred_xgb = xgb_best_model.predict(XX_test)"
   ]
  },
  {
   "cell_type": "code",
   "execution_count": 50,
   "metadata": {},
   "outputs": [
    {
     "name": "stdout",
     "output_type": "stream",
     "text": [
      "\u001b[1m-TRAIN\u001b[0m\n",
      "Accuracy Score : 0.8404\n",
      "Precision Score : 0.3949\n",
      "Recall Score : 0.3519\n",
      "F1 Score : 0.3638\n",
      "\u001b[1m-TEST\u001b[0m\n",
      "Accuracy Score : 0.4787\n",
      "Precision Score : 0.1552\n",
      "Recall Score : 0.1869\n",
      "F1 Score:0.1645\n",
      "\n",
      "\u001b[1m-Default parameters in the best trained model:\u001b[0m\n",
      "  XGBClassifier(base_score=0.5, booster='gbtree', colsample_bylevel=1,\n",
      "              colsample_bynode=1, colsample_bytree=0.6, gamma=1.5, gpu_id=-1,\n",
      "              importance_type='gain', interaction_constraints='',\n",
      "              learning_rate=0.300000012, max_delta_step=0, max_depth=5,\n",
      "              min_child_weight=1, missing=nan, monotone_constraints='()',\n",
      "              n_estimators=100, n_jobs=0, num_parallel_tree=1,\n",
      "              objective='multi:softprob', random_state=42, reg_alpha=0,\n",
      "              reg_lambda=1, scale_pos_weight=None, subsample=0.6,\n",
      "              tree_method='exact', validate_parameters=1, verbosity=None)\n",
      "\n",
      "\u001b[1m-Classification Report Test Split:\u001b[0m\n",
      "              precision    recall  f1-score   support\n",
      "\n",
      "           1       0.60      0.41      0.49        22\n",
      "           2       0.69      0.85      0.76        13\n",
      "           4       0.26      0.50      0.34        12\n",
      "           5       0.00      0.00      0.00         1\n",
      "           6       0.00      0.00      0.00         2\n",
      "           7       0.00      0.00      0.00         1\n",
      "           9       0.00      0.00      0.00         1\n",
      "          11       0.56      0.75      0.64        20\n",
      "          13       0.00      0.00      0.00         2\n",
      "          14       0.00      0.00      0.00         1\n",
      "          15       0.00      0.00      0.00         1\n",
      "          18       0.00      0.00      0.00         2\n",
      "          20       0.25      0.50      0.33         2\n",
      "          21       0.50      0.40      0.44         5\n",
      "          24       0.00      0.00      0.00         1\n",
      "          25       0.00      0.00      0.00         1\n",
      "          28       0.25      0.33      0.29         3\n",
      "          31       0.00      0.00      0.00         2\n",
      "          34       0.00      0.00      0.00         1\n",
      "          35       0.00      0.00      0.00         1\n",
      "\n",
      "    accuracy                           0.48        94\n",
      "   macro avg       0.16      0.19      0.16        94\n",
      "weighted avg       0.43      0.48      0.44        94\n",
      "\n"
     ]
    },
    {
     "data": {
      "image/png": "[encoded data removed]",
      "text/plain": [
       "<Figure size 1440x648 with 2 Axes>"
      ]
     },
     "metadata": {
      "needs_background": "light"
     },
     "output_type": "display_data"
    }
   ],
   "source": [
    "print(\"\\033[1m-TRAIN\\033[0m\")\n",
    "print('Accuracy Score : ' + str(round(accuracy_score(yy_train, yy_train_pred_xgb),4)))\n",
    "print('Precision Score : ' + str(round(precision_score(yy_train, yy_train_pred_xgb,average='macro'),4)))\n",
    "print('Recall Score : ' + str(round(recall_score(yy_train, yy_train_pred_xgb,average='macro'),4)))\n",
    "print('F1 Score : ' + str(round(f1_score(yy_train, yy_train_pred_xgb,average='macro'),4)))\n",
    "print(\"\\033[1m-TEST\\033[0m\")\n",
    "print('Accuracy Score : ' + str(round(accuracy_score(yy_test, yy_test_pred_xgb),4)))\n",
    "print('Precision Score : ' + str(round(precision_score(yy_test, yy_test_pred_xgb,average='macro'),4)))\n",
    "print('Recall Score : ' + str(round(recall_score(yy_test, yy_test_pred_xgb,average='macro'),4)))\n",
    "print('F1 Score:' + str(round(f1_score(yy_test, yy_test_pred_xgb,average='macro'),4)))\n",
    "print(\"\\n\\033[1m-Default parameters in the best trained model:\\033[0m\\n \", xgb_best_model)\n",
    "print(\"\\n\\033[1m-Classification Report Test Split:\\033[0m\")\n",
    "print(classification_report(yy_test, yy_test_pred_xgb))\n",
    "plot_cm(yy_test_pred_xgb, yy_test)"
   ]
  },
  {
   "cell_type": "markdown",
   "metadata": {},
   "source": [
    "## Descriptive Analysis\n",
    "\n",
    "In comparision with the models_1 (without optimized hyperparameters) this model performs better, at least in its score. Like before, this model performed decently for a few classes, but was hit or miss with the rest. It also presents a reduced range of genres from which it picks to predict. The models performs better with samples corresponding with the classes 1, 2, 3, 11, 21. \n",
    "\n",
    "Most of the samples of the test set were of the classes 1,2 and 11. In these cases we see three diferent situations. for the class 1, the model was unable to properly distinguish between the rest of the well represented classes. for the class 2, the model succesfully learned to recognize it. for class 11, the model couldn't distinguish it from the class 1 samples."
   ]
  },
  {
   "cell_type": "code",
   "execution_count": 51,
   "metadata": {},
   "outputs": [
    {
     "data": {
      "text/html": [
       "<div>\n",
       "<style scoped>\n",
       "    .dataframe tbody tr th:only-of-type {\n",
       "        vertical-align: middle;\n",
       "    }\n",
       "\n",
       "    .dataframe tbody tr th {\n",
       "        vertical-align: top;\n",
       "    }\n",
       "\n",
       "    .dataframe thead th {\n",
       "        text-align: right;\n",
       "    }\n",
       "</style>\n",
       "<table border=\"1\" class=\"dataframe\">\n",
       "  <thead>\n",
       "    <tr style=\"text-align: right;\">\n",
       "      <th></th>\n",
       "      <th>mean_fit_time</th>\n",
       "      <th>std_fit_time</th>\n",
       "      <th>mean_score_time</th>\n",
       "      <th>std_score_time</th>\n",
       "      <th>param_colsample_bytree</th>\n",
       "      <th>param_gamma</th>\n",
       "      <th>param_max_depth</th>\n",
       "      <th>param_min_child_weight</th>\n",
       "      <th>param_subsample</th>\n",
       "      <th>params</th>\n",
       "      <th>split0_test_score</th>\n",
       "      <th>split1_test_score</th>\n",
       "      <th>split2_test_score</th>\n",
       "      <th>mean_test_score</th>\n",
       "      <th>std_test_score</th>\n",
       "      <th>rank_test_score</th>\n",
       "    </tr>\n",
       "  </thead>\n",
       "  <tbody>\n",
       "    <tr>\n",
       "      <th>0</th>\n",
       "      <td>0.188315</td>\n",
       "      <td>0.065150</td>\n",
       "      <td>0.006449</td>\n",
       "      <td>0.000270</td>\n",
       "      <td>0.6</td>\n",
       "      <td>0.5</td>\n",
       "      <td>3</td>\n",
       "      <td>1</td>\n",
       "      <td>0.6</td>\n",
       "      <td>{'colsample_bytree': 0.6, 'gamma': 0.5, 'max_depth': 3, 'min_child_weight': 1, 'subsample': 0.6}</td>\n",
       "      <td>0.531915</td>\n",
       "      <td>0.489362</td>\n",
       "      <td>0.446809</td>\n",
       "      <td>0.489362</td>\n",
       "      <td>0.034745</td>\n",
       "      <td>16</td>\n",
       "    </tr>\n",
       "    <tr>\n",
       "      <th>1</th>\n",
       "      <td>0.152274</td>\n",
       "      <td>0.006262</td>\n",
       "      <td>0.006327</td>\n",
       "      <td>0.001048</td>\n",
       "      <td>0.6</td>\n",
       "      <td>0.5</td>\n",
       "      <td>3</td>\n",
       "      <td>1</td>\n",
       "      <td>1</td>\n",
       "      <td>{'colsample_bytree': 0.6, 'gamma': 0.5, 'max_depth': 3, 'min_child_weight': 1, 'subsample': 1.0}</td>\n",
       "      <td>0.510638</td>\n",
       "      <td>0.478723</td>\n",
       "      <td>0.446809</td>\n",
       "      <td>0.478723</td>\n",
       "      <td>0.026058</td>\n",
       "      <td>31</td>\n",
       "    </tr>\n",
       "    <tr>\n",
       "      <th>2</th>\n",
       "      <td>0.244070</td>\n",
       "      <td>0.090448</td>\n",
       "      <td>0.006213</td>\n",
       "      <td>0.000160</td>\n",
       "      <td>0.6</td>\n",
       "      <td>0.5</td>\n",
       "      <td>3</td>\n",
       "      <td>5</td>\n",
       "      <td>0.6</td>\n",
       "      <td>{'colsample_bytree': 0.6, 'gamma': 0.5, 'max_depth': 3, 'min_child_weight': 5, 'subsample': 0.6}</td>\n",
       "      <td>0.542553</td>\n",
       "      <td>0.500000</td>\n",
       "      <td>0.457447</td>\n",
       "      <td>0.500000</td>\n",
       "      <td>0.034745</td>\n",
       "      <td>4</td>\n",
       "    </tr>\n",
       "  </tbody>\n",
       "</table>\n",
       "</div>"
      ],
      "text/plain": [
       "   mean_fit_time  std_fit_time  mean_score_time  std_score_time  \\\n",
       "0  0.188315       0.065150      0.006449         0.000270         \n",
       "1  0.152274       0.006262      0.006327         0.001048         \n",
       "2  0.244070       0.090448      0.006213         0.000160         \n",
       "\n",
       "  param_colsample_bytree param_gamma param_max_depth param_min_child_weight  \\\n",
       "0  0.6                    0.5         3               1                       \n",
       "1  0.6                    0.5         3               1                       \n",
       "2  0.6                    0.5         3               5                       \n",
       "\n",
       "  param_subsample  \\\n",
       "0  0.6              \n",
       "1  1                \n",
       "2  0.6              \n",
       "\n",
       "                                                                                             params  \\\n",
       "0  {'colsample_bytree': 0.6, 'gamma': 0.5, 'max_depth': 3, 'min_child_weight': 1, 'subsample': 0.6}   \n",
       "1  {'colsample_bytree': 0.6, 'gamma': 0.5, 'max_depth': 3, 'min_child_weight': 1, 'subsample': 1.0}   \n",
       "2  {'colsample_bytree': 0.6, 'gamma': 0.5, 'max_depth': 3, 'min_child_weight': 5, 'subsample': 0.6}   \n",
       "\n",
       "   split0_test_score  split1_test_score  split2_test_score  mean_test_score  \\\n",
       "0  0.531915           0.489362           0.446809           0.489362          \n",
       "1  0.510638           0.478723           0.446809           0.478723          \n",
       "2  0.542553           0.500000           0.457447           0.500000          \n",
       "\n",
       "   std_test_score  rank_test_score  \n",
       "0  0.034745        16               \n",
       "1  0.026058        31               \n",
       "2  0.034745        4                "
      ]
     },
     "execution_count": 51,
     "metadata": {},
     "output_type": "execute_result"
    }
   ],
   "source": [
    "#param grid all combinations\n",
    "results_xgb = grid_xgb.cv_results_\n",
    "df_xgb = pd.DataFrame(results_xgb)\n",
    "df_xgb.head(3)"
   ]
  },
  {
   "cell_type": "markdown",
   "metadata": {},
   "source": [
    "##### PCA XGBOOST"
   ]
  },
  {
   "cell_type": "code",
   "execution_count": 52,
   "metadata": {},
   "outputs": [
    {
     "data": {
      "text/plain": [
       "<Figure size 432x288 with 0 Axes>"
      ]
     },
     "metadata": {},
     "output_type": "display_data"
    },
    {
     "data": {
      "image/png": "[encoded data removed]",
      "text/plain": [
       "<Figure size 1050.93x288 with 1 Axes>"
      ]
     },
     "metadata": {
      "needs_background": "light"
     },
     "output_type": "display_data"
    },
    {
     "data": {
      "image/png": "[encoded data removed]",
      "text/plain": [
       "<Figure size 1050.81x288 with 1 Axes>"
      ]
     },
     "metadata": {
      "needs_background": "light"
     },
     "output_type": "display_data"
    }
   ],
   "source": [
    "xx_test_xgb = XX_test\n",
    "#TRUE\n",
    "yy_test_xgb = yy_test\n",
    "#PREDICTED\n",
    "yy_test_pred_xgb\n",
    "\n",
    "pca = decomposition.PCA(n_components=2)\n",
    "pc1 = pca.fit_transform(xx_test_xgb)\n",
    "pc2 = pca.fit_transform(xx_test_xgb)\n",
    "df_pca1 = pd.DataFrame({'var':pca.explained_variance_ratio_, 'PC': ['PC1','PC2']})\n",
    "df_pca2 = pd.DataFrame({'var':pca.explained_variance_ratio_, 'PC': ['PC1','PC2']})\n",
    "#TRUE\n",
    "pc_df1 = pd.DataFrame(data=pc1, columns=['PC1', 'PC2'])\n",
    "pc_df1['Cluster']=yy_test_xgb.to_list()\n",
    "#PREDICTED\n",
    "pc_df2 = pd.DataFrame(data=pc2, columns=['PC1', 'PC2'])\n",
    "pc_df2['Cluster']=yy_test_pred_xgb\n",
    "\n",
    "plt.figure()\n",
    "sns.lmplot(x='PC1', y='PC2', data=pc_df1,fit_reg=False,hue='Cluster',legend=True, scatter_kws={\"s\":80},height=4, aspect=3.5)\n",
    "ax = plt.gca()\n",
    "ax.set_title(\"TRUE Y\", fontsize=17)\n",
    "\n",
    "sns.lmplot(x='PC1', y='PC2', data=pc_df2,fit_reg=False,hue='Cluster',legend=True, scatter_kws={\"s\":80},height=4, aspect=3.5)\n",
    "ax = plt.gca()\n",
    "ax.set_title(\"PREDICTED Y\", fontsize=17)\n",
    "plt.show()"
   ]
  },
  {
   "cell_type": "markdown",
   "metadata": {},
   "source": [
    "## Descriptive analysis\n",
    "\n",
    "In these graphics we can see the genre range reduction very clearly. Tracking the individual examples we can detect some correct classifications, for the class 1,2,11 - which had the highest success rates.\n",
    "\n",
    "This range reduction meant the model classified based on \"broad strokes\" and lost subtleity in most cases, grouping together songs which were originally labeled with different classes."
   ]
  },
  {
   "cell_type": "markdown",
   "metadata": {},
   "source": [
    "## Decision Trees"
   ]
  },
  {
   "cell_type": "code",
   "execution_count": 53,
   "metadata": {},
   "outputs": [
    {
     "name": "stdout",
     "output_type": "stream",
     "text": [
      "Fitting 3 folds for each of 30 candidates, totalling 90 fits\n"
     ]
    },
    {
     "name": "stderr",
     "output_type": "stream",
     "text": [
      "[Parallel(n_jobs=1)]: Using backend SequentialBackend with 1 concurrent workers.\n",
      "[Parallel(n_jobs=1)]: Done  90 out of  90 | elapsed:    0.7s finished\n"
     ]
    }
   ],
   "source": [
    "param_grid_tree = {\n",
    "    'criterion': ['gini', 'entropy'],\n",
    "    'max_depth': [1, 2, 3, 4, 5], \n",
    "    \"min_samples_split\": [2, 3, 4]\n",
    "}\n",
    "grid_tree = GridSearchCV(dt_clf, param_grid_tree, scoring='accuracy', cv=3,verbose=1)\n",
    "grid_tree.fit(XX_train, yy_train)\n",
    "\n",
    "#making a prediction in train and test!\n",
    "tree_best_model = grid_tree.best_estimator_\n",
    "yy_train_pred_dt = tree_best_model.predict(XX_train)\n",
    "yy_test_pred_dt = tree_best_model.predict(XX_test)"
   ]
  },
  {
   "cell_type": "code",
   "execution_count": 54,
   "metadata": {},
   "outputs": [
    {
     "name": "stdout",
     "output_type": "stream",
     "text": [
      "\u001b[1m-TRAIN\u001b[0m\n",
      "Accuracy Score : 0.5248\n",
      "Precision Score : 0.0625\n",
      "Recall Score : 0.0901\n",
      "F1 Score : 0.0736\n",
      "\u001b[1m-TEST\u001b[0m\n",
      "Accuracy Score : 0.4362\n",
      "Precision Score : 0.0865\n",
      "Recall Score : 0.1202\n",
      "F1 Score:0.1003\n",
      "\n",
      "\u001b[1m-Default parameters in the best trained model:\u001b[0m\n",
      "  DecisionTreeClassifier(criterion='entropy', max_depth=3, random_state=42)\n",
      "\n",
      "\u001b[1m-Classification Report Test Split:\u001b[0m\n",
      "              precision    recall  f1-score   support\n",
      "\n",
      "           1       0.44      0.55      0.49        22\n",
      "           2       0.53      0.69      0.60        13\n",
      "           4       0.24      0.42      0.30        12\n",
      "           5       0.00      0.00      0.00         1\n",
      "           6       0.00      0.00      0.00         2\n",
      "           7       0.00      0.00      0.00         1\n",
      "           9       0.00      0.00      0.00         1\n",
      "          11       0.52      0.75      0.61        20\n",
      "          13       0.00      0.00      0.00         2\n",
      "          14       0.00      0.00      0.00         1\n",
      "          15       0.00      0.00      0.00         1\n",
      "          18       0.00      0.00      0.00         2\n",
      "          20       0.00      0.00      0.00         2\n",
      "          21       0.00      0.00      0.00         5\n",
      "          24       0.00      0.00      0.00         1\n",
      "          25       0.00      0.00      0.00         1\n",
      "          28       0.00      0.00      0.00         3\n",
      "          31       0.00      0.00      0.00         2\n",
      "          34       0.00      0.00      0.00         1\n",
      "          35       0.00      0.00      0.00         1\n",
      "\n",
      "    accuracy                           0.44        94\n",
      "   macro avg       0.09      0.12      0.10        94\n",
      "weighted avg       0.32      0.44      0.37        94\n",
      "\n"
     ]
    },
    {
     "data": {
      "image/png": "[encoded data removed]",
      "text/plain": [
       "<Figure size 1440x648 with 2 Axes>"
      ]
     },
     "metadata": {
      "needs_background": "light"
     },
     "output_type": "display_data"
    }
   ],
   "source": [
    "print(\"\\033[1m-TRAIN\\033[0m\")\n",
    "print('Accuracy Score : ' + str(round(accuracy_score(yy_train, yy_train_pred_dt),4)))\n",
    "print('Precision Score : ' + str(round(precision_score(yy_train, yy_train_pred_dt,average='macro'),4)))\n",
    "print('Recall Score : ' + str(round(recall_score(yy_train, yy_train_pred_dt,average='macro'),4)))\n",
    "print('F1 Score : ' + str(round(f1_score(yy_train, yy_train_pred_dt,average='macro'),4)))\n",
    "print(\"\\033[1m-TEST\\033[0m\")\n",
    "print('Accuracy Score : ' + str(round(accuracy_score(yy_test, yy_test_pred_dt),4)))\n",
    "print('Precision Score : ' + str(round(precision_score(yy_test, yy_test_pred_dt,average='macro'),4)))\n",
    "print('Recall Score : ' + str(round(recall_score(yy_test, yy_test_pred_dt,average='macro'),4)))\n",
    "print('F1 Score:' + str(round(f1_score(yy_test, yy_test_pred_dt,average='macro'),4)))\n",
    "print(\"\\n\\033[1m-Default parameters in the best trained model:\\033[0m\\n \", tree_best_model)\n",
    "print(\"\\n\\033[1m-Classification Report Test Split:\\033[0m\")\n",
    "print(classification_report(yy_test, yy_test_pred_dt))\n",
    "plot_cm(yy_test_pred_dt, yy_test)"
   ]
  },
  {
   "cell_type": "markdown",
   "metadata": {},
   "source": [
    "## Descriptive analysis\n",
    "\n",
    "In this model, the forementioned range reduction is even more extreme. This model results in a very simple classification: out of the 35 different true genres, this model found the best to reduce this space to 4 different possible labels. This is a very different result than the one obtained through the default hyperparameters. It results in a higher accuracy score, through if optimizing the models with the accuracy in mind has as consequence a better classifier is out of scope of this exploration and deserves its own report. See Future Work for more on this. This higher accuracy score came with the cost of a lowered precision."
   ]
  },
  {
   "cell_type": "code",
   "execution_count": 55,
   "metadata": {},
   "outputs": [
    {
     "data": {
      "text/html": [
       "<div>\n",
       "<style scoped>\n",
       "    .dataframe tbody tr th:only-of-type {\n",
       "        vertical-align: middle;\n",
       "    }\n",
       "\n",
       "    .dataframe tbody tr th {\n",
       "        vertical-align: top;\n",
       "    }\n",
       "\n",
       "    .dataframe thead th {\n",
       "        text-align: right;\n",
       "    }\n",
       "</style>\n",
       "<table border=\"1\" class=\"dataframe\">\n",
       "  <thead>\n",
       "    <tr style=\"text-align: right;\">\n",
       "      <th></th>\n",
       "      <th>mean_fit_time</th>\n",
       "      <th>std_fit_time</th>\n",
       "      <th>mean_score_time</th>\n",
       "      <th>std_score_time</th>\n",
       "      <th>param_criterion</th>\n",
       "      <th>param_max_depth</th>\n",
       "      <th>param_min_samples_split</th>\n",
       "      <th>params</th>\n",
       "      <th>split0_test_score</th>\n",
       "      <th>split1_test_score</th>\n",
       "      <th>split2_test_score</th>\n",
       "      <th>mean_test_score</th>\n",
       "      <th>std_test_score</th>\n",
       "      <th>rank_test_score</th>\n",
       "    </tr>\n",
       "  </thead>\n",
       "  <tbody>\n",
       "    <tr>\n",
       "      <th>0</th>\n",
       "      <td>0.005420</td>\n",
       "      <td>0.000413</td>\n",
       "      <td>0.002848</td>\n",
       "      <td>0.000671</td>\n",
       "      <td>gini</td>\n",
       "      <td>1</td>\n",
       "      <td>2</td>\n",
       "      <td>{'criterion': 'gini', 'max_depth': 1, 'min_samples_split': 2}</td>\n",
       "      <td>0.276596</td>\n",
       "      <td>0.351064</td>\n",
       "      <td>0.308511</td>\n",
       "      <td>0.312057</td>\n",
       "      <td>0.030505</td>\n",
       "      <td>28</td>\n",
       "    </tr>\n",
       "    <tr>\n",
       "      <th>1</th>\n",
       "      <td>0.005535</td>\n",
       "      <td>0.000560</td>\n",
       "      <td>0.002466</td>\n",
       "      <td>0.000475</td>\n",
       "      <td>gini</td>\n",
       "      <td>1</td>\n",
       "      <td>3</td>\n",
       "      <td>{'criterion': 'gini', 'max_depth': 1, 'min_samples_split': 3}</td>\n",
       "      <td>0.276596</td>\n",
       "      <td>0.351064</td>\n",
       "      <td>0.308511</td>\n",
       "      <td>0.312057</td>\n",
       "      <td>0.030505</td>\n",
       "      <td>28</td>\n",
       "    </tr>\n",
       "    <tr>\n",
       "      <th>2</th>\n",
       "      <td>0.004800</td>\n",
       "      <td>0.000533</td>\n",
       "      <td>0.003134</td>\n",
       "      <td>0.000575</td>\n",
       "      <td>gini</td>\n",
       "      <td>1</td>\n",
       "      <td>4</td>\n",
       "      <td>{'criterion': 'gini', 'max_depth': 1, 'min_samples_split': 4}</td>\n",
       "      <td>0.276596</td>\n",
       "      <td>0.351064</td>\n",
       "      <td>0.308511</td>\n",
       "      <td>0.312057</td>\n",
       "      <td>0.030505</td>\n",
       "      <td>28</td>\n",
       "    </tr>\n",
       "  </tbody>\n",
       "</table>\n",
       "</div>"
      ],
      "text/plain": [
       "   mean_fit_time  std_fit_time  mean_score_time  std_score_time  \\\n",
       "0  0.005420       0.000413      0.002848         0.000671         \n",
       "1  0.005535       0.000560      0.002466         0.000475         \n",
       "2  0.004800       0.000533      0.003134         0.000575         \n",
       "\n",
       "  param_criterion param_max_depth param_min_samples_split  \\\n",
       "0  gini            1               2                        \n",
       "1  gini            1               3                        \n",
       "2  gini            1               4                        \n",
       "\n",
       "                                                          params  \\\n",
       "0  {'criterion': 'gini', 'max_depth': 1, 'min_samples_split': 2}   \n",
       "1  {'criterion': 'gini', 'max_depth': 1, 'min_samples_split': 3}   \n",
       "2  {'criterion': 'gini', 'max_depth': 1, 'min_samples_split': 4}   \n",
       "\n",
       "   split0_test_score  split1_test_score  split2_test_score  mean_test_score  \\\n",
       "0  0.276596           0.351064           0.308511           0.312057          \n",
       "1  0.276596           0.351064           0.308511           0.312057          \n",
       "2  0.276596           0.351064           0.308511           0.312057          \n",
       "\n",
       "   std_test_score  rank_test_score  \n",
       "0  0.030505        28               \n",
       "1  0.030505        28               \n",
       "2  0.030505        28               "
      ]
     },
     "execution_count": 55,
     "metadata": {},
     "output_type": "execute_result"
    }
   ],
   "source": [
    "#param grid all combinations\n",
    "results_dt = grid_tree.cv_results_\n",
    "df_tree = pd.DataFrame(results_dt)\n",
    "df_tree.head(3)"
   ]
  },
  {
   "cell_type": "markdown",
   "metadata": {},
   "source": [
    "##### PCA DecisionTrees"
   ]
  },
  {
   "cell_type": "code",
   "execution_count": 56,
   "metadata": {},
   "outputs": [
    {
     "data": {
      "text/plain": [
       "<Figure size 432x288 with 0 Axes>"
      ]
     },
     "metadata": {},
     "output_type": "display_data"
    },
    {
     "data": {
      "image/png": "[encoded data removed]",
      "text/plain": [
       "<Figure size 1050.93x288 with 1 Axes>"
      ]
     },
     "metadata": {
      "needs_background": "light"
     },
     "output_type": "display_data"
    },
    {
     "data": {
      "image/png": "[encoded data removed]",
      "text/plain": [
       "<Figure size 1050.68x288 with 1 Axes>"
      ]
     },
     "metadata": {
      "needs_background": "light"
     },
     "output_type": "display_data"
    }
   ],
   "source": [
    "xx_test_dt = XX_test\n",
    "#TRUE\n",
    "yy_test_dt = yy_test\n",
    "#PREDICTED\n",
    "yy_test_pred_dt\n",
    "\n",
    "pca = decomposition.PCA(n_components=2)\n",
    "pc1 = pca.fit_transform(xx_test_dt)\n",
    "pc2 = pca.fit_transform(xx_test_dt)\n",
    "df_pca1 = pd.DataFrame({'var':pca.explained_variance_ratio_, 'PC': ['PC1','PC2']})\n",
    "df_pca2 = pd.DataFrame({'var':pca.explained_variance_ratio_, 'PC': ['PC1','PC2']})\n",
    "\n",
    "pc_df1 = pd.DataFrame(data=pc1, columns=['PC1', 'PC2'])\n",
    "pc_df1['Cluster']=yy_test_dt.to_list()\n",
    "pc_df2 = pd.DataFrame(data=pc2, columns=['PC1', 'PC2'])\n",
    "pc_df2['Cluster']=yy_test_pred_dt\n",
    "\n",
    "plt.figure()\n",
    "sns.lmplot(x='PC1', y='PC2', data=pc_df1,fit_reg=False,hue='Cluster',legend=True, scatter_kws={\"s\":80},height=4, aspect=3.5)\n",
    "ax = plt.gca()\n",
    "ax.set_title(\"TRUE Y\", fontsize=17)\n",
    "\n",
    "sns.lmplot(x='PC1', y='PC2', data=pc_df2,fit_reg=False,hue='Cluster',legend=True, scatter_kws={\"s\":80},height=4, aspect=3.5)\n",
    "ax = plt.gca()\n",
    "ax.set_title(\"PREDICTED Y\", fontsize=17)\n",
    "plt.show()"
   ]
  },
  {
   "cell_type": "markdown",
   "metadata": {},
   "source": [
    "# Descriptive Analysis\n",
    "\n",
    "In these graphics we can see this forementioned heavy reduction of the dimensionality of the model's output more clearly.\n",
    "\n",
    "It's as though this model sees everything through a simplifying filter. In some of the cases were there are new samples of these four overrepresented classes the model still makes mistakes; meaning it wasn't able to properly generalize, and the four classes aren't well distinguished."
   ]
  },
  {
   "cell_type": "markdown",
   "metadata": {},
   "source": [
    "## Random Forest"
   ]
  },
  {
   "cell_type": "code",
   "execution_count": 57,
   "metadata": {},
   "outputs": [
    {
     "name": "stdout",
     "output_type": "stream",
     "text": [
      "Fitting 3 folds for each of 64 candidates, totalling 192 fits\n"
     ]
    },
    {
     "name": "stderr",
     "output_type": "stream",
     "text": [
      "[Parallel(n_jobs=1)]: Using backend SequentialBackend with 1 concurrent workers.\n",
      "[Parallel(n_jobs=1)]: Done 192 out of 192 | elapsed:  1.3min finished\n"
     ]
    }
   ],
   "source": [
    "param_grid_rf= {\n",
    " 'bootstrap': [True, False],\n",
    " 'max_depth': [100, None],\n",
    " 'max_features': ['auto', 'sqrt'],\n",
    " 'min_samples_leaf': [1,  4],\n",
    " 'min_samples_split': [2, 10],\n",
    " 'n_estimators': [200, 400]\n",
    "}\n",
    "grid_rf= GridSearchCV(rf_clf, param_grid_rf, scoring='accuracy', cv=3, verbose=1)\n",
    "grid_rf.fit(XX_train, yy_train)\n",
    "\n",
    "#making a prediction in train and test!\n",
    "rf_best_model = grid_rf.best_estimator_\n",
    "yy_train_pred_rf = rf_best_model.predict(XX_train)\n",
    "yy_test_pred_rf = rf_best_model.predict(XX_test)"
   ]
  },
  {
   "cell_type": "code",
   "execution_count": 58,
   "metadata": {},
   "outputs": [
    {
     "name": "stdout",
     "output_type": "stream",
     "text": [
      "\u001b[1m-TRAIN\u001b[0m\n",
      "Accuracy Score : 0.8085\n",
      "Precision Score : 0.4216\n",
      "Recall Score : 0.3042\n",
      "F1 Score : 0.327\n",
      "\u001b[1m-TEST\u001b[0m\n",
      "Accuracy Score : 0.4894\n",
      "Precision Score : 0.1737\n",
      "Recall Score : 0.1734\n",
      "F1 Score:0.1658\n",
      "\n",
      "\u001b[1m-Default parameters in the best trained model:\u001b[0m\n",
      "  RandomForestClassifier(max_depth=100, min_samples_leaf=4, n_estimators=200,\n",
      "                       random_state=42)\n",
      "\n",
      "\u001b[1m-Classification Report Test Split:\u001b[0m\n",
      "              precision    recall  f1-score   support\n",
      "\n",
      "           1       0.48      0.45      0.47        22\n",
      "           2       0.73      0.85      0.79        13\n",
      "           4       0.25      0.42      0.31        12\n",
      "           5       0.00      0.00      0.00         1\n",
      "           6       0.00      0.00      0.00         2\n",
      "           7       0.00      0.00      0.00         1\n",
      "           9       0.00      0.00      0.00         1\n",
      "          11       0.52      0.85      0.64        20\n",
      "          13       0.00      0.00      0.00         2\n",
      "          14       0.00      0.00      0.00         1\n",
      "          15       0.00      0.00      0.00         1\n",
      "          18       0.00      0.00      0.00         2\n",
      "          20       1.00      0.50      0.67         2\n",
      "          21       0.50      0.40      0.44         5\n",
      "          24       0.00      0.00      0.00         1\n",
      "          25       0.00      0.00      0.00         1\n",
      "          28       0.00      0.00      0.00         3\n",
      "          31       0.00      0.00      0.00         2\n",
      "          34       0.00      0.00      0.00         1\n",
      "          35       0.00      0.00      0.00         1\n",
      "\n",
      "    accuracy                           0.49        94\n",
      "   macro avg       0.17      0.17      0.17        94\n",
      "weighted avg       0.40      0.49      0.43        94\n",
      "\n"
     ]
    },
    {
     "data": {
      "image/png": "[encoded data removed]",
      "text/plain": [
       "<Figure size 1440x648 with 2 Axes>"
      ]
     },
     "metadata": {
      "needs_background": "light"
     },
     "output_type": "display_data"
    }
   ],
   "source": [
    "print(\"\\033[1m-TRAIN\\033[0m\")\n",
    "print('Accuracy Score : ' + str(round(accuracy_score(yy_train, yy_train_pred_rf),4)))\n",
    "print('Precision Score : ' + str(round(precision_score(yy_train, yy_train_pred_rf,average='macro'),4)))\n",
    "print('Recall Score : ' + str(round(recall_score(yy_train, yy_train_pred_rf,average='macro'),4)))\n",
    "print('F1 Score : ' + str(round(f1_score(yy_train, yy_train_pred_rf,average='macro'),4)))\n",
    "print(\"\\033[1m-TEST\\033[0m\")\n",
    "print('Accuracy Score : ' + str(round(accuracy_score(yy_test, yy_test_pred_rf),4)))\n",
    "print('Precision Score : ' + str(round(precision_score(yy_test, yy_test_pred_rf,average='macro'),4)))\n",
    "print('Recall Score : ' + str(round(recall_score(yy_test, yy_test_pred_rf,average='macro'),4)))\n",
    "print('F1 Score:' + str(round(f1_score(yy_test, yy_test_pred_rf,average='macro'),4)))\n",
    "print(\"\\n\\033[1m-Default parameters in the best trained model:\\033[0m\\n \", rf_best_model)\n",
    "print(\"\\n\\033[1m-Classification Report Test Split:\\033[0m\")\n",
    "print(classification_report(yy_test, yy_test_pred_rf))\n",
    "plot_cm(yy_test_pred_rf, yy_test)"
   ]
  },
  {
   "cell_type": "markdown",
   "metadata": {},
   "source": [
    "## Descriptive Analysis\n",
    "\n",
    "This model has lower scores than the random forest with default parameters. In contrast, the one of this notebook seemed to overfit less. It also reduced the range of possible genres, but was able to distinguish very clearly  class 2 from the rest. Other classes present overlapping/confusion between eachother. This model could be transformed in a binary classifier: class 2 or not class 2."
   ]
  },
  {
   "cell_type": "code",
   "execution_count": 59,
   "metadata": {},
   "outputs": [
    {
     "data": {
      "text/html": [
       "<div>\n",
       "<style scoped>\n",
       "    .dataframe tbody tr th:only-of-type {\n",
       "        vertical-align: middle;\n",
       "    }\n",
       "\n",
       "    .dataframe tbody tr th {\n",
       "        vertical-align: top;\n",
       "    }\n",
       "\n",
       "    .dataframe thead th {\n",
       "        text-align: right;\n",
       "    }\n",
       "</style>\n",
       "<table border=\"1\" class=\"dataframe\">\n",
       "  <thead>\n",
       "    <tr style=\"text-align: right;\">\n",
       "      <th></th>\n",
       "      <th>mean_fit_time</th>\n",
       "      <th>std_fit_time</th>\n",
       "      <th>mean_score_time</th>\n",
       "      <th>std_score_time</th>\n",
       "      <th>param_bootstrap</th>\n",
       "      <th>param_max_depth</th>\n",
       "      <th>param_max_features</th>\n",
       "      <th>param_min_samples_leaf</th>\n",
       "      <th>param_min_samples_split</th>\n",
       "      <th>param_n_estimators</th>\n",
       "      <th>params</th>\n",
       "      <th>split0_test_score</th>\n",
       "      <th>split1_test_score</th>\n",
       "      <th>split2_test_score</th>\n",
       "      <th>mean_test_score</th>\n",
       "      <th>std_test_score</th>\n",
       "      <th>rank_test_score</th>\n",
       "    </tr>\n",
       "  </thead>\n",
       "  <tbody>\n",
       "    <tr>\n",
       "      <th>0</th>\n",
       "      <td>0.331202</td>\n",
       "      <td>0.062207</td>\n",
       "      <td>0.022317</td>\n",
       "      <td>0.002387</td>\n",
       "      <td>True</td>\n",
       "      <td>100</td>\n",
       "      <td>auto</td>\n",
       "      <td>1</td>\n",
       "      <td>2</td>\n",
       "      <td>200</td>\n",
       "      <td>{'bootstrap': True, 'max_depth': 100, 'max_features': 'auto', 'min_samples_leaf': 1, 'min_samples_split': 2, 'n_estimators': 200}</td>\n",
       "      <td>0.489362</td>\n",
       "      <td>0.478723</td>\n",
       "      <td>0.478723</td>\n",
       "      <td>0.48227</td>\n",
       "      <td>0.005015</td>\n",
       "      <td>53</td>\n",
       "    </tr>\n",
       "    <tr>\n",
       "      <th>1</th>\n",
       "      <td>0.624684</td>\n",
       "      <td>0.064925</td>\n",
       "      <td>0.049428</td>\n",
       "      <td>0.009283</td>\n",
       "      <td>True</td>\n",
       "      <td>100</td>\n",
       "      <td>auto</td>\n",
       "      <td>1</td>\n",
       "      <td>2</td>\n",
       "      <td>400</td>\n",
       "      <td>{'bootstrap': True, 'max_depth': 100, 'max_features': 'auto', 'min_samples_leaf': 1, 'min_samples_split': 2, 'n_estimators': 400}</td>\n",
       "      <td>0.521277</td>\n",
       "      <td>0.478723</td>\n",
       "      <td>0.500000</td>\n",
       "      <td>0.50000</td>\n",
       "      <td>0.017372</td>\n",
       "      <td>17</td>\n",
       "    </tr>\n",
       "  </tbody>\n",
       "</table>\n",
       "</div>"
      ],
      "text/plain": [
       "   mean_fit_time  std_fit_time  mean_score_time  std_score_time  \\\n",
       "0  0.331202       0.062207      0.022317         0.002387         \n",
       "1  0.624684       0.064925      0.049428         0.009283         \n",
       "\n",
       "  param_bootstrap param_max_depth param_max_features param_min_samples_leaf  \\\n",
       "0  True            100             auto               1                       \n",
       "1  True            100             auto               1                       \n",
       "\n",
       "  param_min_samples_split param_n_estimators  \\\n",
       "0  2                       200                 \n",
       "1  2                       400                 \n",
       "\n",
       "                                                                                                                              params  \\\n",
       "0  {'bootstrap': True, 'max_depth': 100, 'max_features': 'auto', 'min_samples_leaf': 1, 'min_samples_split': 2, 'n_estimators': 200}   \n",
       "1  {'bootstrap': True, 'max_depth': 100, 'max_features': 'auto', 'min_samples_leaf': 1, 'min_samples_split': 2, 'n_estimators': 400}   \n",
       "\n",
       "   split0_test_score  split1_test_score  split2_test_score  mean_test_score  \\\n",
       "0  0.489362           0.478723           0.478723           0.48227           \n",
       "1  0.521277           0.478723           0.500000           0.50000           \n",
       "\n",
       "   std_test_score  rank_test_score  \n",
       "0  0.005015        53               \n",
       "1  0.017372        17               "
      ]
     },
     "execution_count": 59,
     "metadata": {},
     "output_type": "execute_result"
    }
   ],
   "source": [
    "#param grid all combinations\n",
    "results_rf = grid_rf.cv_results_\n",
    "df_rf = pd.DataFrame(results_rf)\n",
    "df_rf.head(2)"
   ]
  },
  {
   "cell_type": "code",
   "execution_count": 60,
   "metadata": {},
   "outputs": [
    {
     "data": {
      "text/plain": [
       "<Figure size 432x288 with 0 Axes>"
      ]
     },
     "metadata": {},
     "output_type": "display_data"
    },
    {
     "data": {
      "image/png": "[encoded data removed]",
      "text/plain": [
       "<Figure size 1050.93x288 with 1 Axes>"
      ]
     },
     "metadata": {
      "needs_background": "light"
     },
     "output_type": "display_data"
    },
    {
     "data": {
      "image/png": "[encoded data removed]",
      "text/plain": [
       "<Figure size 1050.81x288 with 1 Axes>"
      ]
     },
     "metadata": {
      "needs_background": "light"
     },
     "output_type": "display_data"
    }
   ],
   "source": [
    "xx_test_rf = XX_test\n",
    "#TRUE\n",
    "yy_test_rf = yy_test\n",
    "#PREDICTED\n",
    "yy_test_pred_rf\n",
    "\n",
    "pca = decomposition.PCA(n_components=2)\n",
    "pc1 = pca.fit_transform(xx_test_rf)\n",
    "pc2 = pca.fit_transform(xx_test_rf)\n",
    "df_pca1 = pd.DataFrame({'var':pca.explained_variance_ratio_, 'PC': ['PC1','PC2']})\n",
    "df_pca2 = pd.DataFrame({'var':pca.explained_variance_ratio_, 'PC': ['PC1','PC2']})\n",
    "\n",
    "pc_df1 = pd.DataFrame(data=pc1, columns=['PC1', 'PC2'])\n",
    "pc_df1['Cluster']=yy_test_rf.to_list()\n",
    "pc_df2 = pd.DataFrame(data=pc2, columns=['PC1', 'PC2'])\n",
    "pc_df2['Cluster']=yy_test_pred_rf\n",
    "\n",
    "plt.figure()\n",
    "sns.lmplot(x='PC1', y='PC2', data=pc_df1,fit_reg=False,hue='Cluster',legend=True, scatter_kws={\"s\":80},height=4, aspect=3.5)\n",
    "ax = plt.gca()\n",
    "ax.set_title(\"TRUE Y\", fontsize=17)\n",
    "\n",
    "sns.lmplot(x='PC1', y='PC2', data=pc_df2,fit_reg=False,hue='Cluster',legend=True, scatter_kws={\"s\":80},height=4, aspect=3.5)\n",
    "ax = plt.gca()\n",
    "ax.set_title(\"PREDICTED Y\", fontsize=17)\n",
    "plt.show()"
   ]
  },
  {
   "cell_type": "markdown",
   "metadata": {},
   "source": [
    "## Descriptive analysis\n",
    "\n",
    "Class 2 outputs shine through for being mostly correctly labeled. This model learned to identify that case in particular."
   ]
  },
  {
   "cell_type": "markdown",
   "metadata": {},
   "source": [
    "## Feature Importance"
   ]
  },
  {
   "cell_type": "code",
   "execution_count": 61,
   "metadata": {},
   "outputs": [
    {
     "data": {
      "image/png": "[encoded data removed]",
      "text/plain": [
       "<Figure size 936x360 with 1 Axes>"
      ]
     },
     "metadata": {
      "needs_background": "light"
     },
     "output_type": "display_data"
    }
   ],
   "source": [
    "plot_feature_importance(xgb_best_model.feature_importances_, XX_train.columns,'XGBOOST   ')"
   ]
  },
  {
   "cell_type": "code",
   "execution_count": 62,
   "metadata": {},
   "outputs": [
    {
     "data": {
      "image/png": "[encoded data removed]",
      "text/plain": [
       "<Figure size 936x360 with 1 Axes>"
      ]
     },
     "metadata": {
      "needs_background": "light"
     },
     "output_type": "display_data"
    }
   ],
   "source": [
    "plot_feature_importance(tree_best_model.feature_importances_, XX_train.columns,'DECISION TREE   ')"
   ]
  },
  {
   "cell_type": "code",
   "execution_count": 63,
   "metadata": {},
   "outputs": [
    {
     "data": {
      "image/png": "[encoded data removed]",
      "text/plain": [
       "<Figure size 936x360 with 1 Axes>"
      ]
     },
     "metadata": {
      "needs_background": "light"
     },
     "output_type": "display_data"
    }
   ],
   "source": [
    "plot_feature_importance(rf_best_model.feature_importances_, XX_train.columns,'RANDOM FOREST   ')"
   ]
  },
  {
   "cell_type": "markdown",
   "metadata": {},
   "source": [
    "In all cases, acousticness and speechiness were favored by the models in order to make classifications."
   ]
  },
  {
   "cell_type": "markdown",
   "metadata": {},
   "source": [
    "## Multiclass + Multilabel"
   ]
  },
  {
   "cell_type": "code",
   "execution_count": 64,
   "metadata": {},
   "outputs": [],
   "source": [
    "# XX2=Features YY2=list of genres, target multilabel without encoding\n",
    "XX2,YY2 = get_df_for_training(songs_base)"
   ]
  },
  {
   "cell_type": "code",
   "execution_count": 65,
   "metadata": {},
   "outputs": [
    {
     "name": "stdout",
     "output_type": "stream",
     "text": [
      "(920, 12)\n"
     ]
    },
    {
     "data": {
      "text/html": [
       "<div>\n",
       "<style scoped>\n",
       "    .dataframe tbody tr th:only-of-type {\n",
       "        vertical-align: middle;\n",
       "    }\n",
       "\n",
       "    .dataframe tbody tr th {\n",
       "        vertical-align: top;\n",
       "    }\n",
       "\n",
       "    .dataframe thead th {\n",
       "        text-align: right;\n",
       "    }\n",
       "</style>\n",
       "<table border=\"1\" class=\"dataframe\">\n",
       "  <thead>\n",
       "    <tr style=\"text-align: right;\">\n",
       "      <th></th>\n",
       "      <th>danceability</th>\n",
       "      <th>energy</th>\n",
       "      <th>key</th>\n",
       "      <th>loudness</th>\n",
       "      <th>mode</th>\n",
       "      <th>speechiness</th>\n",
       "      <th>acousticness</th>\n",
       "      <th>instrumentalness</th>\n",
       "      <th>liveness</th>\n",
       "      <th>valence</th>\n",
       "      <th>tempo</th>\n",
       "      <th>lyrics_sentiment</th>\n",
       "    </tr>\n",
       "  </thead>\n",
       "  <tbody>\n",
       "    <tr>\n",
       "      <th>0</th>\n",
       "      <td>0.161</td>\n",
       "      <td>0.482</td>\n",
       "      <td>1</td>\n",
       "      <td>-11.210</td>\n",
       "      <td>0</td>\n",
       "      <td>0.0472</td>\n",
       "      <td>0.486</td>\n",
       "      <td>0.40900</td>\n",
       "      <td>0.371</td>\n",
       "      <td>0.0926</td>\n",
       "      <td>161.092</td>\n",
       "      <td>0.0013</td>\n",
       "    </tr>\n",
       "    <tr>\n",
       "      <th>1</th>\n",
       "      <td>0.230</td>\n",
       "      <td>0.434</td>\n",
       "      <td>10</td>\n",
       "      <td>-12.402</td>\n",
       "      <td>0</td>\n",
       "      <td>0.0551</td>\n",
       "      <td>0.570</td>\n",
       "      <td>0.00000</td>\n",
       "      <td>0.115</td>\n",
       "      <td>0.0834</td>\n",
       "      <td>80.793</td>\n",
       "      <td>0.9970</td>\n",
       "    </tr>\n",
       "    <tr>\n",
       "      <th>2</th>\n",
       "      <td>0.289</td>\n",
       "      <td>0.280</td>\n",
       "      <td>9</td>\n",
       "      <td>-15.335</td>\n",
       "      <td>1</td>\n",
       "      <td>0.0433</td>\n",
       "      <td>0.874</td>\n",
       "      <td>0.00443</td>\n",
       "      <td>0.124</td>\n",
       "      <td>0.0391</td>\n",
       "      <td>124.835</td>\n",
       "      <td>0.0000</td>\n",
       "    </tr>\n",
       "  </tbody>\n",
       "</table>\n",
       "</div>"
      ],
      "text/plain": [
       "   danceability  energy  key  loudness  mode  speechiness  acousticness  \\\n",
       "0  0.161         0.482   1   -11.210    0     0.0472       0.486          \n",
       "1  0.230         0.434   10  -12.402    0     0.0551       0.570          \n",
       "2  0.289         0.280   9   -15.335    1     0.0433       0.874          \n",
       "\n",
       "   instrumentalness  liveness  valence    tempo  lyrics_sentiment  \n",
       "0  0.40900           0.371     0.0926   161.092  0.0013            \n",
       "1  0.00000           0.115     0.0834   80.793   0.9970            \n",
       "2  0.00443           0.124     0.0391   124.835  0.0000            "
      ]
     },
     "execution_count": 65,
     "metadata": {},
     "output_type": "execute_result"
    }
   ],
   "source": [
    "print(XX2.shape)\n",
    "XX2.head(3)"
   ]
  },
  {
   "cell_type": "code",
   "execution_count": 66,
   "metadata": {},
   "outputs": [
    {
     "name": "stdout",
     "output_type": "stream",
     "text": [
      "(920,)\n"
     ]
    },
    {
     "data": {
      "text/plain": [
       "0    [art pop,  dance pop,  deconstructed club,  electropop,  escape room,  experimental pop,  fluxwork,  indie r&b,  indietronica]\n",
       "1    [art pop,  dance pop,  deconstructed club,  electropop,  escape room,  experimental pop,  fluxwork,  indie r&b,  indietronica]\n",
       "2    [art pop,  dance pop,  deconstructed club,  electropop,  escape room,  experimental pop,  fluxwork,  indie r&b,  indietronica]\n",
       "Name: genres, dtype: object"
      ]
     },
     "execution_count": 66,
     "metadata": {},
     "output_type": "execute_result"
    }
   ],
   "source": [
    "print(YY2.shape)\n",
    "YY2.head(3)"
   ]
  },
  {
   "cell_type": "code",
   "execution_count": 67,
   "metadata": {},
   "outputs": [],
   "source": [
    "binarizer = MultiLabelBinarizer()\n",
    "yy2_binarized = binarizer.fit_transform(YY2)\n",
    "X2_train, X2_test, y2_train, y2_test = model_selection.train_test_split(XX2, yy2_binarized , test_size=0.25, random_state=42)"
   ]
  },
  {
   "cell_type": "markdown",
   "metadata": {},
   "source": [
    "## OneVsRestClassifier"
   ]
  },
  {
   "cell_type": "code",
   "execution_count": 68,
   "metadata": {},
   "outputs": [
    {
     "name": "stdout",
     "output_type": "stream",
     "text": [
      "Fitting 3 folds for each of 5 candidates, totalling 15 fits\n"
     ]
    },
    {
     "name": "stderr",
     "output_type": "stream",
     "text": [
      "[Parallel(n_jobs=1)]: Using backend SequentialBackend with 1 concurrent workers.\n",
      "[Parallel(n_jobs=1)]: Done  15 out of  15 | elapsed:    6.8s finished\n"
     ]
    },
    {
     "data": {
      "text/plain": [
       "GridSearchCV(cv=3,\n",
       "             estimator=OneVsRestClassifier(estimator=SGDClassifier(alpha=1e-05,\n",
       "                                                                   loss='perceptron',\n",
       "                                                                   n_jobs=-1,\n",
       "                                                                   random_state=42)),\n",
       "             param_grid={'estimator__alpha': [1e-05, 0.001, 0.1, 10, 100]},\n",
       "             scoring='accuracy', verbose=1)"
      ]
     },
     "execution_count": 68,
     "metadata": {},
     "output_type": "execute_result"
    }
   ],
   "source": [
    "import warnings\n",
    "warnings.filterwarnings('ignore')\n",
    "\n",
    "param_grid_ovr = {\n",
    "              \"estimator__alpha\": [10**-5, 10**-3, 10**-1, 10**1, 10**2],\n",
    "             }\n",
    "ovr_clf = OneVsRestClassifier(\n",
    "                SGDClassifier(\n",
    "                    random_state=42,\n",
    "                    loss='perceptron', #'log'\n",
    "                    alpha=0.00001,\n",
    "                    penalty=\"l2\",\n",
    "                    n_jobs=-1\n",
    "                )\n",
    "                  )\n",
    "grid_ovr= GridSearchCV(ovr_clf, param_grid_ovr, scoring='accuracy', cv=3, verbose=1)\n",
    "grid_ovr.fit(X2_train, y2_train)"
   ]
  },
  {
   "cell_type": "code",
   "execution_count": 69,
   "metadata": {},
   "outputs": [],
   "source": [
    "#making a prediction in train and test!\n",
    "ovr_best_model = grid_ovr.best_estimator_\n",
    "y2_train_pred_ovr = ovr_best_model.predict(X2_train)\n",
    "y2_test_pred_ovr = ovr_best_model.predict(X2_test)"
   ]
  },
  {
   "cell_type": "code",
   "execution_count": 70,
   "metadata": {},
   "outputs": [
    {
     "data": {
      "text/plain": [
       "dict_keys(['estimator__alpha', 'estimator__average', 'estimator__class_weight', 'estimator__early_stopping', 'estimator__epsilon', 'estimator__eta0', 'estimator__fit_intercept', 'estimator__l1_ratio', 'estimator__learning_rate', 'estimator__loss', 'estimator__max_iter', 'estimator__n_iter_no_change', 'estimator__n_jobs', 'estimator__penalty', 'estimator__power_t', 'estimator__random_state', 'estimator__shuffle', 'estimator__tol', 'estimator__validation_fraction', 'estimator__verbose', 'estimator__warm_start', 'estimator', 'n_jobs'])"
      ]
     },
     "execution_count": 70,
     "metadata": {},
     "output_type": "execute_result"
    }
   ],
   "source": [
    "ovr_clf.get_params().keys()"
   ]
  },
  {
   "cell_type": "code",
   "execution_count": 71,
   "metadata": {},
   "outputs": [
    {
     "name": "stdout",
     "output_type": "stream",
     "text": [
      "\u001b[1m-TRAIN\u001b[0m\n",
      "Accuracy Score : 0.0116\n",
      "Precision Score : 0.0248\n",
      "Recall Score : 0.0224\n",
      "F1 Score : 0.0203\n",
      "\u001b[1m-TEST\u001b[0m\n",
      "Accuracy Score : 0.0087\n",
      "Precision Score : 0.0232\n",
      "Recall Score : 0.0174\n",
      "F1 Score:0.0164\n",
      "\n",
      "\u001b[1m-Default parameters in the best trained model:\u001b[0m\n",
      "  OneVsRestClassifier(estimator=SGDClassifier(alpha=100, loss='perceptron',\n",
      "                                            n_jobs=-1, random_state=42))\n",
      "\n",
      "\u001b[1m-Classification Report Test Split:\u001b[0m\n",
      "              precision    recall  f1-score   support\n",
      "\n",
      "           0       0.00      0.00      0.00        13\n",
      "           1       0.00      0.00      0.00         4\n",
      "           2       0.06      0.04      0.05        28\n",
      "           3       0.00      0.00      0.00         2\n",
      "           4       0.11      0.02      0.03        54\n",
      "           5       0.00      0.00      0.00         0\n",
      "           6       0.00      0.00      0.00         0\n",
      "           7       0.00      0.00      0.00         0\n",
      "           8       0.00      0.00      0.00         0\n",
      "           9       0.00      0.00      0.00         3\n",
      "          10       0.00      0.00      0.00         0\n",
      "          11       0.00      0.00      0.00        12\n",
      "          12       0.00      0.00      0.00         2\n",
      "          13       0.10      0.10      0.10        20\n",
      "          14       0.00      0.00      0.00         1\n",
      "          15       0.00      0.00      0.00         0\n",
      "          16       0.00      0.00      0.00         0\n",
      "          17       0.00      0.00      0.00         0\n",
      "          18       0.00      0.00      0.00         0\n",
      "          19       0.00      0.00      0.00         0\n",
      "          20       0.00      0.00      0.00         3\n",
      "          21       0.00      0.00      0.00         0\n",
      "          22       0.00      0.00      0.00         0\n",
      "          23       0.00      0.00      0.00         0\n",
      "          24       0.00      0.00      0.00         0\n",
      "          25       0.00      0.00      0.00         0\n",
      "          26       0.00      0.00      0.00         0\n",
      "          27       0.00      0.00      0.00         0\n",
      "          28       0.00      0.00      0.00         0\n",
      "          29       0.00      0.00      0.00         0\n",
      "          30       0.00      0.00      0.00         0\n",
      "          31       0.00      0.00      0.00         7\n",
      "          32       0.00      0.00      0.00         4\n",
      "          33       0.00      0.00      0.00         0\n",
      "          34       0.00      0.00      0.00         0\n",
      "          35       0.00      0.00      0.00         0\n",
      "          36       0.15      0.32      0.21        19\n",
      "          37       0.00      0.00      0.00         6\n",
      "          38       0.30      0.09      0.14        67\n",
      "          39       0.00      0.00      0.00        12\n",
      "          40       0.00      0.00      0.00        22\n",
      "          41       0.10      0.08      0.09        26\n",
      "          42       0.23      0.37      0.29        46\n",
      "          43       0.15      0.04      0.07        68\n",
      "          44       0.00      0.00      0.00         1\n",
      "          45       0.00      0.00      0.00         1\n",
      "          46       0.00      0.00      0.00         2\n",
      "          47       0.00      0.00      0.00         1\n",
      "          48       0.00      0.00      0.00         1\n",
      "          49       0.00      0.00      0.00         4\n",
      "          50       0.00      0.00      0.00        12\n",
      "          51       0.00      0.00      0.00         2\n",
      "          52       0.00      0.00      0.00         0\n",
      "          53       0.00      0.00      0.00         0\n",
      "          54       0.00      0.00      0.00         1\n",
      "          55       0.00      0.00      0.00         1\n",
      "          56       0.00      0.00      0.00         0\n",
      "          57       0.00      0.00      0.00         4\n",
      "          58       0.00      0.00      0.00         7\n",
      "          59       0.00      0.00      0.00         1\n",
      "          60       0.00      0.00      0.00         0\n",
      "          61       0.00      0.00      0.00         0\n",
      "          62       0.00      0.00      0.00         1\n",
      "          63       0.00      0.00      0.00         2\n",
      "          64       0.00      0.00      0.00         0\n",
      "          65       0.00      0.00      0.00         3\n",
      "          66       0.00      0.00      0.00         0\n",
      "          67       0.00      0.00      0.00         0\n",
      "          68       0.00      0.00      0.00         1\n",
      "          69       0.00      0.00      0.00         5\n",
      "          70       0.00      0.00      0.00         0\n",
      "          71       0.00      0.00      0.00        16\n",
      "          72       0.00      0.00      0.00         6\n",
      "          73       0.00      0.00      0.00         3\n",
      "          74       0.00      0.00      0.00         6\n",
      "          75       0.00      0.00      0.00         2\n",
      "          76       0.00      0.00      0.00        24\n",
      "          77       0.00      0.00      0.00         1\n",
      "          78       0.00      0.00      0.00         3\n",
      "          79       0.00      0.00      0.00         2\n",
      "          80       0.51      0.25      0.33       105\n",
      "          81       0.00      0.00      0.00         0\n",
      "          82       0.33      0.23      0.27        57\n",
      "          83       0.00      0.00      0.00         3\n",
      "          84       0.00      0.00      0.00         2\n",
      "          85       0.00      0.00      0.00         5\n",
      "          86       0.00      0.00      0.00         0\n",
      "          87       0.00      0.00      0.00         6\n",
      "          88       0.00      0.00      0.00         1\n",
      "          89       0.00      0.00      0.00         1\n",
      "          90       0.00      0.00      0.00        14\n",
      "          91       0.00      0.00      0.00        12\n",
      "          92       0.00      0.00      0.00         1\n",
      "          93       0.00      0.00      0.00         1\n",
      "          94       0.00      0.00      0.00         1\n",
      "          95       0.15      0.24      0.18        33\n",
      "          96       0.00      0.00      0.00         1\n",
      "          97       0.00      0.00      0.00         0\n",
      "          98       0.00      0.00      0.00         0\n",
      "          99       0.00      0.00      0.00         0\n",
      "         100       0.00      0.00      0.00        13\n",
      "         101       0.10      0.08      0.09        26\n",
      "         102       0.00      0.00      0.00         1\n",
      "         103       0.04      0.05      0.04        19\n",
      "         104       0.00      0.00      0.00         1\n",
      "         105       0.00      0.00      0.00         5\n",
      "         106       0.00      0.00      0.00         4\n",
      "         107       0.20      0.16      0.18        45\n",
      "         108       0.00      0.00      0.00         0\n",
      "         109       0.00      0.00      0.00         0\n",
      "         110       0.07      0.29      0.11         7\n",
      "         111       0.00      0.00      0.00         0\n",
      "         112       0.00      0.00      0.00         1\n",
      "         113       0.00      0.00      0.00         1\n",
      "         114       0.00      0.00      0.00         1\n",
      "         115       0.00      0.00      0.00        29\n",
      "         116       0.00      0.00      0.00         0\n",
      "         117       0.00      0.00      0.00         2\n",
      "         118       0.00      0.00      0.00         1\n",
      "         119       0.00      0.00      0.00         6\n",
      "         120       0.00      0.00      0.00         6\n",
      "         121       0.00      0.00      0.00         0\n",
      "         122       0.00      0.00      0.00         0\n",
      "         123       0.00      0.00      0.00         0\n",
      "         124       0.00      0.00      0.00         0\n",
      "         125       0.00      0.00      0.00         0\n",
      "         126       0.00      0.00      0.00         1\n",
      "         127       0.00      0.00      0.00         4\n",
      "         128       0.00      0.00      0.00         0\n",
      "         129       0.60      0.06      0.11        51\n",
      "         130       0.00      0.00      0.00         3\n",
      "         131       0.00      0.00      0.00         1\n",
      "         132       0.00      0.00      0.00         0\n",
      "         133       0.00      0.00      0.00         0\n",
      "         134       0.00      0.00      0.00         0\n",
      "         135       0.00      0.00      0.00         0\n",
      "         136       0.00      0.00      0.00         1\n",
      "         137       0.00      0.00      0.00         1\n",
      "\n",
      "   micro avg       0.16      0.10      0.12      1005\n",
      "   macro avg       0.02      0.02      0.02      1005\n",
      "weighted avg       0.18      0.10      0.11      1005\n",
      " samples avg       0.12      0.09      0.08      1005\n",
      "\n"
     ]
    },
    {
     "data": {
      "image/png": "[encoded data removed]",
      "text/plain": [
       "<Figure size 1440x648 with 2 Axes>"
      ]
     },
     "metadata": {
      "needs_background": "light"
     },
     "output_type": "display_data"
    }
   ],
   "source": [
    "print(\"\\033[1m-TRAIN\\033[0m\")\n",
    "print('Accuracy Score : ' + str(round(accuracy_score(y2_train, y2_train_pred_ovr),4)))\n",
    "print('Precision Score : ' + str(round(precision_score(y2_train, y2_train_pred_ovr,average='macro'),4)))\n",
    "print('Recall Score : ' + str(round(recall_score(y2_train, y2_train_pred_ovr,average='macro'),4)))\n",
    "print('F1 Score : ' + str(round(f1_score(y2_train, y2_train_pred_ovr,average='macro'),4)))\n",
    "print(\"\\033[1m-TEST\\033[0m\")\n",
    "print('Accuracy Score : ' + str(round(accuracy_score(y2_test, y2_test_pred_ovr),4)))\n",
    "print('Precision Score : ' + str(round(precision_score(y2_test, y2_test_pred_ovr,average='macro'),4)))\n",
    "print('Recall Score : ' + str(round(recall_score(y2_test, y2_test_pred_ovr,average='macro'),4)))\n",
    "print('F1 Score:' + str(round(f1_score(y2_test, y2_test_pred_ovr,average='macro'),4)))\n",
    "print(\"\\n\\033[1m-Default parameters in the best trained model:\\033[0m\\n \", ovr_best_model)\n",
    "print(\"\\n\\033[1m-Classification Report Test Split:\\033[0m\")\n",
    "print(classification_report(y2_test, y2_test_pred_ovr))\n",
    "plot_cm(y2_test_pred_ovr.argmax(axis=1), y2_test.argmax(axis=1))"
   ]
  },
  {
   "cell_type": "markdown",
   "metadata": {},
   "source": [
    "## Descriptive analysis \n",
    "This model doesn't perform very well score-wise in general. It shows a wider range of possible genres, which might indicate that under the score-data representativeness trade off it decided to aim for the later: under the situation of having an unbalanced dataset (with a lot of samples of a few classes, and a lot of unique examples of a lot of classes) this model chose to not simplify the prediction, and it meant a reduction of its score."
   ]
  },
  {
   "cell_type": "code",
   "execution_count": 72,
   "metadata": {},
   "outputs": [
    {
     "data": {
      "text/html": [
       "<div>\n",
       "<style scoped>\n",
       "    .dataframe tbody tr th:only-of-type {\n",
       "        vertical-align: middle;\n",
       "    }\n",
       "\n",
       "    .dataframe tbody tr th {\n",
       "        vertical-align: top;\n",
       "    }\n",
       "\n",
       "    .dataframe thead th {\n",
       "        text-align: right;\n",
       "    }\n",
       "</style>\n",
       "<table border=\"1\" class=\"dataframe\">\n",
       "  <thead>\n",
       "    <tr style=\"text-align: right;\">\n",
       "      <th></th>\n",
       "      <th>mean_fit_time</th>\n",
       "      <th>std_fit_time</th>\n",
       "      <th>mean_score_time</th>\n",
       "      <th>std_score_time</th>\n",
       "      <th>param_estimator__alpha</th>\n",
       "      <th>params</th>\n",
       "      <th>split0_test_score</th>\n",
       "      <th>split1_test_score</th>\n",
       "      <th>split2_test_score</th>\n",
       "      <th>mean_test_score</th>\n",
       "      <th>std_test_score</th>\n",
       "      <th>rank_test_score</th>\n",
       "    </tr>\n",
       "  </thead>\n",
       "  <tbody>\n",
       "    <tr>\n",
       "      <th>0</th>\n",
       "      <td>0.360989</td>\n",
       "      <td>0.041636</td>\n",
       "      <td>0.114262</td>\n",
       "      <td>0.005224</td>\n",
       "      <td>1e-05</td>\n",
       "      <td>{'estimator__alpha': 1e-05}</td>\n",
       "      <td>0.0</td>\n",
       "      <td>0.0</td>\n",
       "      <td>0.0</td>\n",
       "      <td>0.0</td>\n",
       "      <td>0.0</td>\n",
       "      <td>3</td>\n",
       "    </tr>\n",
       "    <tr>\n",
       "      <th>1</th>\n",
       "      <td>0.350292</td>\n",
       "      <td>0.019338</td>\n",
       "      <td>0.107588</td>\n",
       "      <td>0.004871</td>\n",
       "      <td>0.001</td>\n",
       "      <td>{'estimator__alpha': 0.001}</td>\n",
       "      <td>0.0</td>\n",
       "      <td>0.0</td>\n",
       "      <td>0.0</td>\n",
       "      <td>0.0</td>\n",
       "      <td>0.0</td>\n",
       "      <td>3</td>\n",
       "    </tr>\n",
       "    <tr>\n",
       "      <th>2</th>\n",
       "      <td>0.443421</td>\n",
       "      <td>0.057667</td>\n",
       "      <td>0.142344</td>\n",
       "      <td>0.020752</td>\n",
       "      <td>0.1</td>\n",
       "      <td>{'estimator__alpha': 0.1}</td>\n",
       "      <td>0.0</td>\n",
       "      <td>0.0</td>\n",
       "      <td>0.0</td>\n",
       "      <td>0.0</td>\n",
       "      <td>0.0</td>\n",
       "      <td>3</td>\n",
       "    </tr>\n",
       "  </tbody>\n",
       "</table>\n",
       "</div>"
      ],
      "text/plain": [
       "   mean_fit_time  std_fit_time  mean_score_time  std_score_time  \\\n",
       "0  0.360989       0.041636      0.114262         0.005224         \n",
       "1  0.350292       0.019338      0.107588         0.004871         \n",
       "2  0.443421       0.057667      0.142344         0.020752         \n",
       "\n",
       "  param_estimator__alpha                       params  split0_test_score  \\\n",
       "0  1e-05                  {'estimator__alpha': 1e-05}  0.0                 \n",
       "1  0.001                  {'estimator__alpha': 0.001}  0.0                 \n",
       "2  0.1                    {'estimator__alpha': 0.1}    0.0                 \n",
       "\n",
       "   split1_test_score  split2_test_score  mean_test_score  std_test_score  \\\n",
       "0  0.0                0.0                0.0              0.0              \n",
       "1  0.0                0.0                0.0              0.0              \n",
       "2  0.0                0.0                0.0              0.0              \n",
       "\n",
       "   rank_test_score  \n",
       "0  3                \n",
       "1  3                \n",
       "2  3                "
      ]
     },
     "execution_count": 72,
     "metadata": {},
     "output_type": "execute_result"
    }
   ],
   "source": [
    "#param grid all combinations\n",
    "results_ovr = grid_ovr.cv_results_\n",
    "df_ovr = pd.DataFrame(results_ovr)\n",
    "df_ovr.head(3)"
   ]
  },
  {
   "cell_type": "code",
   "execution_count": 73,
   "metadata": {},
   "outputs": [
    {
     "data": {
      "text/plain": [
       "138"
      ]
     },
     "execution_count": 73,
     "metadata": {},
     "output_type": "execute_result"
    }
   ],
   "source": [
    "ovr_best_model.n_classes_"
   ]
  },
  {
   "cell_type": "code",
   "execution_count": 74,
   "metadata": {},
   "outputs": [
    {
     "data": {
      "text/plain": [
       "<matplotlib.axes._subplots.AxesSubplot at 0x7fd12000f978>"
      ]
     },
     "execution_count": 74,
     "metadata": {},
     "output_type": "execute_result"
    },
    {
     "data": {
      "image/png": "[encoded data removed]",
      "text/plain": [
       "<Figure size 1080x792 with 2 Axes>"
      ]
     },
     "metadata": {
      "needs_background": "light"
     },
     "output_type": "display_data"
    }
   ],
   "source": [
    "cm = confusion_matrix(y2_test.argmax(axis=1), y2_test_pred_ovr.argmax(axis=1), labels=np.unique(y2_test.argmax(axis=1)))\n",
    "plt.figure(figsize=(15,11))\n",
    "sns.heatmap(cm, annot=True, annot_kws={\"size\": 12},cmap='afmhot') #bone plasma hot"
   ]
  },
  {
   "cell_type": "markdown",
   "metadata": {},
   "source": [
    "## Descriptive Analysis\n",
    "Even if the range of genres to be chosen was amplified in comparision to the non-multilabel models, this model still mostly chose 3 classes to classify the test samples. The performance of this model is in general very poor."
   ]
  },
  {
   "cell_type": "markdown",
   "metadata": {},
   "source": [
    "## Future Work and conclusions\n",
    "\n",
    "This is a preliminary, first incursion into supervised learning. That means, most of the techniques applied in the reports were simple and could appear as clear pitfalls for a more experienced data scientist.\n",
    "\n",
    "Still, this presented us with an array of problems to explore, and a lot of open-ended questions.\n",
    "\n",
    "It could prove fruitful to reproduce this same notebook with a normalized dataset to see the difference. Even better, to find ways to balance the dataset and run this notebook with that version of it.\n",
    "\n",
    "Another open ended question is what other different ways of seeing how good our model is for the classification problem. What type of visualizations could aid us to see this more clearly? In a related note, it was out of the scope of these explorations to find which score would be more accurate in order to search hyperparameters for our models. Still, this is a very interesting and useful topic that could lead to a useful classifier."
   ]
  }
 ],
 "metadata": {
  "kernelspec": {
   "display_name": "Python 3",
   "language": "python",
   "name": "python3"
  },
  "language_info": {
   "codemirror_mode": {
    "name": "ipython",
    "version": 3
   },
   "file_extension": ".py",
   "mimetype": "text/x-python",
   "name": "python",
   "nbconvert_exporter": "python",
   "pygments_lexer": "ipython3",
   "version": "3.6.9"
  }
 },
 "nbformat": 4,
 "nbformat_minor": 2
}
